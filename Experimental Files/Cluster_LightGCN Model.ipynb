{
 "cells": [
  {
   "cell_type": "markdown",
   "id": "e95712f1",
   "metadata": {},
   "source": [
    "# ClusterLightGCN Model Experiment "
   ]
  },
  {
   "cell_type": "markdown",
   "id": "bad34935",
   "metadata": {},
   "source": [
    "## Importing Required Libraries"
   ]
  },
  {
   "cell_type": "code",
   "execution_count": 1,
   "id": "590147a9",
   "metadata": {},
   "outputs": [],
   "source": [
    "# Standard Library Imports + Additional Libraries for Graph Related Tasks\n",
    "import random\n",
    "import time\n",
    "import matplotlib.pyplot as plt\n",
    "import networkx as nx\n",
    "import numpy as np\n",
    "import seaborn as sns\n",
    "import pandas as pd\n",
    "import pymetis\n",
    "pd.set_option('display.max_colwidth', None)\n",
    "\n",
    "# PyTorch Standard Library Imports\n",
    "import torch\n",
    "import torch.nn as nn\n",
    "import torch.nn.functional as F\n",
    "import torch.optim as optim\n",
    "from torch import Tensor\n",
    "from torch.utils.data import Dataset, DataLoader\n",
    "\n",
    "# Torch_Geometric Specific Imports\n",
    "import torch_geometric\n",
    "from torch_geometric.nn.conv import MessagePassing\n",
    "from torch_geometric.utils import degree, structured_negative_sampling\n",
    "from torch_geometric.data import download_url, extract_zip\n",
    "from torch_geometric.nn.conv.gcn_conv import gcn_norm\n",
    "from torch_sparse import SparseTensor, matmul\n",
    "\n",
    "# Model Training Libraries\n",
    "from tqdm.notebook import tqdm\n",
    "from sklearn import preprocessing\n",
    "from sklearn.model_selection import train_test_split\n",
    "import scipy.sparse as sp"
   ]
  },
  {
   "cell_type": "code",
   "execution_count": 2,
   "id": "25543a1e",
   "metadata": {},
   "outputs": [
    {
     "data": {
      "text/plain": [
       "'2.2.0'"
      ]
     },
     "execution_count": 2,
     "metadata": {},
     "output_type": "execute_result"
    }
   ],
   "source": [
    "torch_geometric.__version__"
   ]
  },
  {
   "cell_type": "code",
   "execution_count": 3,
   "id": "95762f33",
   "metadata": {},
   "outputs": [
    {
     "data": {
      "text/plain": [
       "device(type='cpu')"
      ]
     },
     "execution_count": 3,
     "metadata": {},
     "output_type": "execute_result"
    }
   ],
   "source": [
    "device = torch.device(\"cuda:0\" if torch.cuda.is_available() else \"cpu\")\n",
    "device"
   ]
  },
  {
   "cell_type": "markdown",
   "id": "1b5f3748",
   "metadata": {},
   "source": [
    "## Loading MovieLens100k Dataset"
   ]
  },
  {
   "cell_type": "code",
   "execution_count": 4,
   "id": "b2b68568",
   "metadata": {},
   "outputs": [
    {
     "name": "stderr",
     "output_type": "stream",
     "text": [
      "Using existing file ml-latest-small.zip\n",
      "Extracting ./ml-latest-small.zip\n"
     ]
    }
   ],
   "source": [
    "# Downloading Dataset (MovieLens 100K)\n",
    "url = 'https://files.grouplens.org/datasets/movielens/ml-latest-small.zip'\n",
    "extract_zip(download_url(url, '.'), '.')\n",
    "\n",
    "movie_path = './ml-latest-small/movies.csv'\n",
    "rating_path = './ml-latest-small/ratings.csv'\n",
    "user_path = './ml-latest-small/users.csv'"
   ]
  },
  {
   "cell_type": "code",
   "execution_count": 5,
   "id": "3083804b",
   "metadata": {},
   "outputs": [
    {
     "name": "stdout",
     "output_type": "stream",
     "text": [
      "Dimensions of dataset:  (100836, 4)\n"
     ]
    },
    {
     "data": {
      "text/html": [
       "<div>\n",
       "<style scoped>\n",
       "    .dataframe tbody tr th:only-of-type {\n",
       "        vertical-align: middle;\n",
       "    }\n",
       "\n",
       "    .dataframe tbody tr th {\n",
       "        vertical-align: top;\n",
       "    }\n",
       "\n",
       "    .dataframe thead th {\n",
       "        text-align: right;\n",
       "    }\n",
       "</style>\n",
       "<table border=\"1\" class=\"dataframe\">\n",
       "  <thead>\n",
       "    <tr style=\"text-align: right;\">\n",
       "      <th></th>\n",
       "      <th>userId</th>\n",
       "      <th>movieId</th>\n",
       "      <th>rating</th>\n",
       "      <th>timestamp</th>\n",
       "    </tr>\n",
       "  </thead>\n",
       "  <tbody>\n",
       "    <tr>\n",
       "      <th>0</th>\n",
       "      <td>1</td>\n",
       "      <td>1</td>\n",
       "      <td>4.0</td>\n",
       "      <td>964982703</td>\n",
       "    </tr>\n",
       "    <tr>\n",
       "      <th>1</th>\n",
       "      <td>1</td>\n",
       "      <td>3</td>\n",
       "      <td>4.0</td>\n",
       "      <td>964981247</td>\n",
       "    </tr>\n",
       "    <tr>\n",
       "      <th>2</th>\n",
       "      <td>1</td>\n",
       "      <td>6</td>\n",
       "      <td>4.0</td>\n",
       "      <td>964982224</td>\n",
       "    </tr>\n",
       "    <tr>\n",
       "      <th>3</th>\n",
       "      <td>1</td>\n",
       "      <td>47</td>\n",
       "      <td>5.0</td>\n",
       "      <td>964983815</td>\n",
       "    </tr>\n",
       "    <tr>\n",
       "      <th>4</th>\n",
       "      <td>1</td>\n",
       "      <td>50</td>\n",
       "      <td>5.0</td>\n",
       "      <td>964982931</td>\n",
       "    </tr>\n",
       "  </tbody>\n",
       "</table>\n",
       "</div>"
      ],
      "text/plain": [
       "   userId  movieId  rating  timestamp\n",
       "0       1        1     4.0  964982703\n",
       "1       1        3     4.0  964981247\n",
       "2       1        6     4.0  964982224\n",
       "3       1       47     5.0  964983815\n",
       "4       1       50     5.0  964982931"
      ]
     },
     "metadata": {},
     "output_type": "display_data"
    }
   ],
   "source": [
    "rating_df = pd.read_csv(rating_path)\n",
    "print(\"Dimensions of dataset: \",rating_df.shape)\n",
    "display(rating_df.head())"
   ]
  },
  {
   "cell_type": "code",
   "execution_count": 6,
   "id": "04629ffc",
   "metadata": {},
   "outputs": [
    {
     "name": "stdout",
     "output_type": "stream",
     "text": [
      "Number of Unique Users :  610\n",
      "Number of unique Items :  9724\n"
     ]
    }
   ],
   "source": [
    "num_items = len(rating_df['movieId'].unique())\n",
    "num_users = len(rating_df['userId'].unique())\n",
    "\n",
    "print(\"Number of Unique Users : \", num_users)\n",
    "print(\"Number of unique Items : \", num_items)"
   ]
  },
  {
   "cell_type": "code",
   "execution_count": 7,
   "id": "5530b6ac",
   "metadata": {},
   "outputs": [],
   "source": [
    "# Encoding preprocessing to match no. of unique Ids\n",
    "lbl_user = preprocessing.LabelEncoder()\n",
    "lbl_movie = preprocessing.LabelEncoder()\n",
    "rating_df.userId = lbl_user.fit_transform(rating_df.userId.values)\n",
    "rating_df.movieId = lbl_movie.fit_transform(rating_df.movieId.values)"
   ]
  },
  {
   "cell_type": "markdown",
   "id": "e927d9ef",
   "metadata": {},
   "source": [
    "## Visualizing User-Item Interactions in Bipartite Graph"
   ]
  },
  {
   "cell_type": "code",
   "execution_count": 8,
   "id": "7e051465",
   "metadata": {},
   "outputs": [
    {
     "data": {
      "image/png": "[encoded data removed]",
      "text/plain": [
       "<Figure size 640x480 with 1 Axes>"
      ]
     },
     "metadata": {},
     "output_type": "display_data"
    }
   ],
   "source": [
    "# Random subset of 50 users and 50 items\n",
    "users = np.random.choice(rating_df['userId'].unique(), size=25, replace=False)\n",
    "movies = np.random.choice(rating_df['movieId'].unique(), size=25, replace=False)\n",
    "\n",
    "# Filter dataset and count no. of user-item interactions\n",
    "ratings_subset = rating_df.loc[rating_df['userId'].isin(users) & rating_df['movieId'].isin(movies)]\n",
    "item_counts = ratings_subset.groupby('movieId').size()\n",
    "\n",
    "# Create bipartite graph\n",
    "G = nx.Graph()\n",
    "G.add_nodes_from(users, bipartite=0)\n",
    "G.add_nodes_from(movies, bipartite=1)\n",
    "for idx, row in ratings_subset.iterrows():\n",
    "    color = 'r' if item_counts[row['movieId']] > 1 else 'k'\n",
    "    G.add_edge(row['userId'], row['movieId'], color=color)\n",
    "\n",
    "# Draw bipartite graph\n",
    "pos = {node:[0, i] for i, node in enumerate(users)}\n",
    "pos.update({node:[1, i] for i, node in enumerate(movies)})\n",
    "edges = G.edges()\n",
    "colors = [G[u][v]['color'] for u,v in edges]\n",
    "nx.draw(G, pos=pos, with_labels=False, node_size=10, width=0.5, node_color='b', edge_color=colors)\n",
    "\n",
    "plt.show()"
   ]
  },
  {
   "cell_type": "markdown",
   "id": "3b663493",
   "metadata": {},
   "source": [
    "## Data Preprocessing: Building Graph in Edge-Index Format"
   ]
  },
  {
   "cell_type": "code",
   "execution_count": 9,
   "id": "8a12ed6f",
   "metadata": {},
   "outputs": [],
   "source": [
    "# Extract user-item interactions\n",
    "rating_threshold = 3.5 # only using high-quality ratings for training\n",
    "rating_mask = rating_df['rating'].values > rating_threshold\n",
    "user_ids = rating_df.loc[rating_mask, 'userId'].values\n",
    "item_ids = rating_df.loc[rating_mask, 'movieId'].values\n",
    "interactions = np.ones_like(user_ids)"
   ]
  },
  {
   "cell_type": "code",
   "execution_count": 10,
   "id": "d1eb2758",
   "metadata": {},
   "outputs": [],
   "source": [
    "# Create sparse COO matrix representing user-item interactions\n",
    "coo = sp.coo_matrix((interactions, (user_ids, item_ids)))\n",
    "row, col, data = coo.row, coo.col, coo.data\n",
    "\n",
    "# Edge Index (converted as LongTensor)\n",
    "edge_index = np.array([row, col])\n",
    "edge_index = torch.LongTensor(edge_index)"
   ]
  },
  {
   "cell_type": "code",
   "execution_count": 11,
   "id": "3c883555",
   "metadata": {
    "scrolled": true
   },
   "outputs": [
    {
     "name": "stdout",
     "output_type": "stream",
     "text": [
      "(610, 9724)\n"
     ]
    }
   ],
   "source": [
    "print(coo.shape) # Interaction Matrix, R - (num_users, num_items)\n",
    "# print(coo)"
   ]
  },
  {
   "cell_type": "code",
   "execution_count": 12,
   "id": "62b4b0d5",
   "metadata": {},
   "outputs": [
    {
     "name": "stdout",
     "output_type": "stream",
     "text": [
      "torch.Size([2, 48580])\n",
      "tensor([[   0,    0,    0,  ...,  609,  609,  609],\n",
      "        [   0,    2,    5,  ..., 9443, 9444, 9445]])\n"
     ]
    }
   ],
   "source": [
    "print(edge_index.shape)\n",
    "print(edge_index)"
   ]
  },
  {
   "cell_type": "markdown",
   "id": "05dd5232",
   "metadata": {},
   "source": [
    "## Train-Test-Validation Split"
   ]
  },
  {
   "cell_type": "code",
   "execution_count": 13,
   "id": "d6803652",
   "metadata": {},
   "outputs": [],
   "source": [
    "num_interactions = edge_index.shape[1]\n",
    "\n",
    "# split the edges of the graph using a 80/10/10 train/validation/test split\n",
    "all_indices = [i for i in range(num_interactions)]\n",
    "\n",
    "train_indices, test_indices = train_test_split(all_indices, \n",
    "                                               test_size=0.2, \n",
    "                                               random_state=1)\n",
    "\n",
    "val_indices, test_indices = train_test_split(test_indices, \n",
    "                                             test_size=0.5, \n",
    "                                             random_state=1)\n",
    "\n",
    "train_edge_index = edge_index[:, train_indices]\n",
    "val_edge_index = edge_index[:, val_indices]\n",
    "test_edge_index = edge_index[:, test_indices]"
   ]
  },
  {
   "cell_type": "code",
   "execution_count": 14,
   "id": "1b0ec7db",
   "metadata": {},
   "outputs": [
    {
     "name": "stdout",
     "output_type": "stream",
     "text": [
      "Total No. Nodes: 10334\n",
      "num_users: 610, num_items: 9724, num_interactions: 48580\n"
     ]
    }
   ],
   "source": [
    "print(f\"Total No. Nodes: {(num_users + num_items)}\")\n",
    "print(f\"num_users: {num_users}, num_items: {num_items}, num_interactions: {num_interactions}\")"
   ]
  },
  {
   "cell_type": "code",
   "execution_count": 15,
   "id": "9acfad7f",
   "metadata": {},
   "outputs": [
    {
     "name": "stdout",
     "output_type": "stream",
     "text": [
      "torch.Size([2, 38864])\n",
      "tensor([[ 605,  110,  442,  ...,   65,  161,  427],\n",
      "        [1110, 9619, 1283,  ..., 4640,  443,  827]])\n"
     ]
    }
   ],
   "source": [
    "print(train_edge_index.size())\n",
    "print(train_edge_index)"
   ]
  },
  {
   "cell_type": "code",
   "execution_count": 16,
   "id": "797e13b6",
   "metadata": {},
   "outputs": [
    {
     "name": "stdout",
     "output_type": "stream",
     "text": [
      "torch.Size([2, 4858])\n",
      "tensor([[ 111,  491,  582,  ...,  176,  478,  413],\n",
      "        [1072,  656,  314,  ..., 5363,  450, 6993]])\n"
     ]
    }
   ],
   "source": [
    "print(val_edge_index.size())\n",
    "print(val_edge_index)"
   ]
  },
  {
   "cell_type": "code",
   "execution_count": 17,
   "id": "95f16f97",
   "metadata": {},
   "outputs": [
    {
     "name": "stdout",
     "output_type": "stream",
     "text": [
      "torch.Size([2, 4858])\n",
      "tensor([[ 559,  266,   57,  ...,  278,  201,   67],\n",
      "        [5339,  898,  443,  ..., 8972, 1578, 1153]])\n"
     ]
    }
   ],
   "source": [
    "print(test_edge_index.size())\n",
    "print(test_edge_index)"
   ]
  },
  {
   "cell_type": "markdown",
   "id": "079ca904",
   "metadata": {},
   "source": [
    "## Convert Interaction Matrix to Adjacency Matrix - Helper Functions"
   ]
  },
  {
   "cell_type": "code",
   "execution_count": 18,
   "id": "e5c4b8d4",
   "metadata": {},
   "outputs": [],
   "source": [
    "def convert_r_mat_edge_index_to_adj_mat_edge_index(input_edge_index):\n",
    "    \"\"\"\n",
    "    Takes an edge index representing the user-item interaction matrix (R matrix)\n",
    "    and returns an edge index representing the adjacency matrix.\n",
    "    __________________________________\n",
    "    \n",
    "    Args:\n",
    "        input_edge_index (LongTensor): Edge index of user-item interaction matrix (R matrix).\n",
    "        \n",
    "    Returns:\n",
    "        adj_mat_coo (LongTensor): Edge index of adjacency matrix.\n",
    "    \"\"\"\n",
    "    R = torch.zeros((num_users, num_items))\n",
    "    for i in range(len(input_edge_index[0])):\n",
    "        row_idx = input_edge_index[0][i]\n",
    "        col_idx = input_edge_index[1][i]\n",
    "        R[row_idx][col_idx] = 1\n",
    "\n",
    "    R_transpose = torch.transpose(R, 0, 1)\n",
    "    adj_mat = torch.zeros((num_users + num_items , num_users + num_items))\n",
    "    adj_mat[: num_users, num_users :] = R.clone()\n",
    "    adj_mat[num_users :, : num_users] = R_transpose.clone()\n",
    "    adj_mat_coo = adj_mat.to_sparse_coo()\n",
    "    adj_mat_coo = adj_mat_coo.indices()\n",
    "    return adj_mat_coo"
   ]
  },
  {
   "cell_type": "code",
   "execution_count": 19,
   "id": "3ef81f42",
   "metadata": {},
   "outputs": [],
   "source": [
    "def convert_adj_mat_edge_index_to_r_mat_edge_index(input_edge_index):\n",
    "    \"\"\"\n",
    "    Takes an edge index representing the adjacency matrix and returns\n",
    "    an edge index representing the user-item interaction matrix (R matrix).\n",
    "    __________________________________\n",
    "    \n",
    "    Args:\n",
    "        input_edge_index (LongTensor): Edge index of adjacency matrix.\n",
    "        \n",
    "    Returns:\n",
    "        r_mat_edge_index (LongTensor): Edge index of user-item interaction matrix (R matrix).\n",
    "    \"\"\"\n",
    "    sparse_input_edge_index = SparseTensor(row=input_edge_index[0], \n",
    "                                           col=input_edge_index[1], \n",
    "                                           sparse_sizes=((num_users + num_items), num_users + num_items))\n",
    "    adj_mat = sparse_input_edge_index.to_dense()\n",
    "    interact_mat = adj_mat[: num_users, num_users :]\n",
    "    r_mat_edge_index = interact_mat.to_sparse_coo().indices()\n",
    "    return r_mat_edge_index"
   ]
  },
  {
   "cell_type": "markdown",
   "id": "1764bc23",
   "metadata": {},
   "source": [
    "## Convert from Interaction Edge Index to Adjacency Edge Index"
   ]
  },
  {
   "cell_type": "code",
   "execution_count": 20,
   "id": "e43d56ad",
   "metadata": {},
   "outputs": [],
   "source": [
    "train_edge_index = convert_r_mat_edge_index_to_adj_mat_edge_index(train_edge_index)\n",
    "val_edge_index = convert_r_mat_edge_index_to_adj_mat_edge_index(val_edge_index)\n",
    "test_edge_index = convert_r_mat_edge_index_to_adj_mat_edge_index(test_edge_index)"
   ]
  },
  {
   "cell_type": "code",
   "execution_count": 21,
   "id": "f5d50d68",
   "metadata": {},
   "outputs": [
    {
     "name": "stdout",
     "output_type": "stream",
     "text": [
      "tensor([[    0,     0,     0,  ..., 10326, 10327, 10333],\n",
      "        [  610,   612,   653,  ...,   183,   183,   330]])\n",
      "torch.Size([2, 77728])\n"
     ]
    }
   ],
   "source": [
    "print(train_edge_index)\n",
    "print(train_edge_index.size())"
   ]
  },
  {
   "cell_type": "code",
   "execution_count": 22,
   "id": "e3140a6a",
   "metadata": {},
   "outputs": [
    {
     "name": "stdout",
     "output_type": "stream",
     "text": [
      "tensor([[    0,     0,     0,  ..., 10226, 10236, 10240],\n",
      "        [  615,   794,  2010,  ...,   317,   204,   413]])\n",
      "torch.Size([2, 9716])\n"
     ]
    }
   ],
   "source": [
    "print(val_edge_index)\n",
    "print(val_edge_index.size())"
   ]
  },
  {
   "cell_type": "code",
   "execution_count": 23,
   "id": "5b0bcdd1",
   "metadata": {},
   "outputs": [
    {
     "name": "stdout",
     "output_type": "stream",
     "text": [
      "tensor([[    0,     0,     0,  ..., 10301, 10302, 10329],\n",
      "        [  811,  1086,  1095,  ...,   585,   585,   183]])\n",
      "torch.Size([2, 9716])\n"
     ]
    }
   ],
   "source": [
    "print(test_edge_index)\n",
    "print(test_edge_index.size())"
   ]
  },
  {
   "cell_type": "markdown",
   "id": "0ad6cebc",
   "metadata": {},
   "source": [
    "## Graph Partitioning"
   ]
  },
  {
   "cell_type": "code",
   "execution_count": 24,
   "id": "1b6ef3c9",
   "metadata": {},
   "outputs": [],
   "source": [
    "def partition_graph(train_edge_index, n_clusters):\n",
    "    # Convert edge index to a NetworkX graph\n",
    "    G = nx.Graph()\n",
    "    G.add_edges_from(train_edge_index.T) # take transpose\n",
    "\n",
    "    # Reindex nodes with consecutive integer node IDs\n",
    "    node_mapping = {node: i for i, node in enumerate(G.nodes)}\n",
    "    G_reindexed = nx.relabel_nodes(G, node_mapping)\n",
    "\n",
    "    # Convert the graph to adjacency list format\n",
    "    adjacency_list = [sorted(list(G_reindexed.neighbors(node))) for node in G_reindexed.nodes]\n",
    "\n",
    "    # Cluster nodes using Pymetis\n",
    "    (edgecuts, parts) = pymetis.part_graph(n_clusters, adjacency=adjacency_list)\n",
    "\n",
    "    # Create a list to store edge indices for each cluster\n",
    "    clustered_edge_indices = [ [] for _ in range(n_clusters)]\n",
    "\n",
    "    # Fill the list with edges belonging to each cluster\n",
    "    cluster_labels = np.array(parts)\n",
    "    for edge in G_reindexed.edges:\n",
    "        cluster = cluster_labels[edge[0]]\n",
    "        if cluster == cluster_labels[edge[1]]:\n",
    "            clustered_edge_indices[cluster].append(edge)\n",
    "    \n",
    "    # Convert each cluster's edge indices to a tensor and store in the list\n",
    "    for i, cluster_edges in enumerate(clustered_edge_indices):\n",
    "        r_edge_index = np.array(cluster_edges).T\n",
    "        r_edge_index = torch.from_numpy(r_edge_index).type(torch.LongTensor)\n",
    "\n",
    "        # Convert reindexed edge index to the original node IDs\n",
    "        inv_node_mapping = {v: k for k, v in node_mapping.items()}\n",
    "        r_edge_index = torch.tensor([[inv_node_mapping[int(idx)] for idx in r_edge_index[0]],\n",
    "                                     [inv_node_mapping[int(idx)] for idx in r_edge_index[1]]])\n",
    "\n",
    "        # Convert edge index format to that of the interaction matrix (R matrix)\n",
    "        # r_edge_index = convert_adj_mat_edge_index_to_r_mat_edge_index(r_edge_index)\n",
    "        \n",
    "        clustered_edge_indices[i] = r_edge_index\n",
    "\n",
    "    return clustered_edge_indices # returns a list of tensors"
   ]
  },
  {
   "cell_type": "markdown",
   "id": "375e3a95",
   "metadata": {},
   "source": [
    "## Generate Clustered Training Edge Index"
   ]
  },
  {
   "cell_type": "code",
   "execution_count": 25,
   "id": "e1138b0c",
   "metadata": {},
   "outputs": [],
   "source": [
    "n_clusters = 100\n",
    "clustered_train_edge_index = partition_graph(train_edge_index, n_clusters)"
   ]
  },
  {
   "cell_type": "code",
   "execution_count": 26,
   "id": "eb432f8d",
   "metadata": {
    "scrolled": true
   },
   "outputs": [
    {
     "name": "stdout",
     "output_type": "stream",
     "text": [
      "[tensor([[   17,    17,    19,  ..., 10294, 10300, 10333],\n",
      "        [ 1560,  3196,  1999,  ...,    17,    24,   330]]), tensor([[   17,    50,    56,  ..., 10237, 10241, 10286],\n",
      "        [ 7899,  1611,  1477,  ...,   413,   152,   461]]), tensor([[   17,    17,    18,  ..., 10030, 10089, 10113],\n",
      "        [ 8362,  8562,  1599,  ...,   158,   338,   248]]), tensor([[    0,     5,    18,  ..., 10158, 10299, 10302],\n",
      "        [  807,   652,  1604,  ...,   304,   555,   379]]), tensor([[    5,     5,    17,  ..., 10245, 10246, 10294],\n",
      "        [  938,   969,  3070,  ...,   183,   183,    61]]), tensor([[   10,    16,    16,  ...,  9283,  9283, 10055],\n",
      "        [ 1693,  2548,  4755,  ...,   330,   379,   379]]), tensor([[   16,    16,    16,  ..., 10301, 10312, 10323],\n",
      "        [ 1548,  2834,  3058,  ...,    24,   183,   183]]), tensor([[    0,     0,     0,  ..., 10054, 10055, 10149],\n",
      "        [  834,   901,  1071,  ...,    97,   585,   585]]), tensor([[    0,     3,     3,  ..., 10055, 10089, 10089],\n",
      "        [  924,  1429,  3513,  ...,   595,   104,   232]]), tensor([[    3,     3,     4,  ..., 10214, 10326, 10327],\n",
      "        [ 3778,  4091,   643,  ...,   183,   183,   183]]), tensor([[    9,     9,     9,  ..., 10136, 10196, 10237],\n",
      "        [ 8793,  8837,  8980,  ...,   104,    61,   585]]), tensor([[    4,     4,     5,  ...,  9629,  9633, 10025],\n",
      "        [  610,   642,   692,  ...,    88,    17,   209]]), tensor([[    3,     5,     5,  ..., 10181, 10260, 10318],\n",
      "        [ 2767,  1061,  1372,  ...,   104,    61,   337]]), tensor([[   0,    0,    3,  ..., 9754, 9893, 9988],\n",
      "        [1028, 1411, 1433,  ...,  327,  124,  533]]), tensor([[    0,     0,     0,  ..., 10015, 10034, 10038],\n",
      "        [ 2405,  2415,  3302,  ...,   104,   585,    88]]), tensor([[    6,     6,    17,  ...,  9878, 10053, 10282],\n",
      "        [ 1014,  1120,  8322,  ...,   317,    61,   110]]), tensor([[   6,   10,   10,  ..., 9471, 9598, 9598],\n",
      "        [4173, 1448, 1655,  ...,  513,  158,  490]]), tensor([[   17,    17,    17,  ..., 10053, 10262, 10301],\n",
      "        [ 7948,  8054,  9017,  ...,   379,    88,   330]]), tensor([[    0,     0,     3,  ...,  9471, 10210, 10237],\n",
      "        [ 2451,  2459,  1321,  ...,   580,    24,   248]]), tensor([[    0,     0,     1,  ..., 10158, 10196, 10210],\n",
      "        [ 2492,  2766,  7303,  ...,    61,   317,    17]]), tensor([[   0,    1,    2,  ..., 9321, 9400, 9406],\n",
      "        [3404, 5217, 2888,  ...,  521,  118,  104]]), tensor([[    0,     0,     3,  ..., 10088, 10141, 10247],\n",
      "        [ 1420,  1763,  3762,  ...,   490,   104,    17]]), tensor([[    5,     5,     5,  ...,  9968,  9972, 10041],\n",
      "        [ 1060,  1137,  1374,  ...,   183,   104,   110]]), tensor([[   0,    0,    1,  ..., 8866, 9031, 9045],\n",
      "        [2208, 2300, 6908,  ...,  316,  533,  183]]), tensor([[   3,    3,    3,  ..., 9275, 9688, 9737],\n",
      "        [1426, 2990, 3757,  ...,  474,   88,  209]]), tensor([[    3,    15,    50,  ..., 10064, 10280, 10292],\n",
      "        [ 1449,  7365,  1957,  ...,   152,   317,    61]]), tensor([[    3,     3,    10,  ...,  9984, 10016, 10265],\n",
      "        [ 1722,  1733,   947,  ...,   609,   317,   211]]), tensor([[   3,    3,    3,  ..., 9496, 9542, 9815],\n",
      "        [1755, 1763, 1841,  ...,  609,  609,  585]]), tensor([[    3,     3,    17,  ...,  9815,  9815, 10303],\n",
      "        [ 1574,  1590,  8771,  ...,   124,   413,   461]]), tensor([[    3,     6,    15,  ...,  9997, 10113, 10291],\n",
      "        [ 1591,   610,  1518,  ...,   183,   379,   248]]), tensor([[    5,     5,     5,  ...,  9984, 10013, 10069],\n",
      "        [  641,   642,   886,  ...,   304,   110,   110]]), tensor([[    0,     0,     1,  ..., 10132, 10210, 10244],\n",
      "        [  610,  2162,  8897,  ...,   104,   337,   110]]), tensor([[   15,    15,    15,  ..., 10229, 10234, 10241],\n",
      "        [ 1266,  1555,  1560,  ...,   110,   461,    24]]), tensor([[   15,    15,    16,  ...,  9984, 10055, 10055],\n",
      "        [ 1209,  1212,   610,  ...,   566,   362,   566]]), tensor([[    0,     0,     3,  ...,  9984, 10018, 10196],\n",
      "        [  612,   746,  2894,  ...,   510,   413,   338]]), tensor([[   0,    1,    3,  ..., 9815, 9834, 9961],\n",
      "        [1398, 9420, 2706,  ...,  248,  559,  211]]), tensor([[   3,    3,    4,  ..., 9910, 9935, 9948],\n",
      "        [1993, 2687,  662,  ...,  183,  295,  110]]), tensor([[    0,     0,     5,  ...,  9912,  9932, 10275],\n",
      "        [ 1548,  2204,  1001,  ...,   305,   147,   211]]), tensor([[    0,     0,     5,  ..., 10213, 10302, 10307],\n",
      "        [ 2467,  2566,   885,  ...,   305,    61,   211]]), tensor([[    3,     3,     3,  ..., 10105, 10128, 10300],\n",
      "        [ 1435,  2053,  2054,  ...,   110,   104,    97]]), tensor([[    0,     0,     0,  ...,  9893, 10028, 10104],\n",
      "        [ 1790,  1799,  1907,  ...,   470,   550,    17]]), tensor([[    0,    10,    13,  ...,  9397,  9839, 10291],\n",
      "        [ 1833,  1008,   924,  ...,    88,   124,   513]]), tensor([[   10,    10,    10,  ..., 10213, 10236, 10242],\n",
      "        [ 1056,  1202,  1225,  ...,   600,   413,   490]]), tensor([[    0,     0,     0,  ...,  9616, 10113, 10213],\n",
      "        [ 1429,  1445,  1583,  ...,   102,   413,   271]]), tensor([[    0,     0,     8,  ..., 10019, 10143, 10272],\n",
      "        [ 1465,  1472,  1509,  ...,   104,   317,   461]]), tensor([[   5,    5,    5,  ..., 9044, 9058, 9067],\n",
      "        [ 883, 1022, 1118,  ...,  496,  240,  343]]), tensor([[    0,    16,    16,  ..., 10161, 10210, 10213],\n",
      "        [ 1735,  5370,  7303,  ...,   110,   413,   209]]), tensor([[    0,    11,    11,  ..., 10030, 10032, 10113],\n",
      "        [ 2555,  5827,  6651,  ...,   550,   338,   183]]), tensor([[   0,    0,    0,  ..., 9785, 9894, 9932],\n",
      "        [1573, 1755, 2595,  ...,   61,  317,  248]]), tensor([[   0,    0,    1,  ..., 9167, 9640, 9827],\n",
      "        [2526, 2548, 3280,  ...,  240,  104,  413]]), tensor([[    3,     4,    41,  ..., 10012, 10129, 10228],\n",
      "        [ 1302,   821,  3302,  ...,   110,   104,   211]]), tensor([[    4,     9,    10,  ..., 10022, 10025, 10055],\n",
      "        [  835,  3280,  2007,  ...,   585,   248,   514]]), tensor([[   6,    7,    7,  ..., 9577, 9582, 9957],\n",
      "        [6802,  620,  642,  ...,  104,  248,  110]]), tensor([[    3,     4,    17,  ...,  9349, 10062, 10228],\n",
      "        [ 3611,   808,  1827,  ...,   124,   585,   513]]), tensor([[   15,    32,    32,  ..., 10054, 10057, 10145],\n",
      "        [ 2103,  1417,  1770,  ...,   362,   124,   413]]), tensor([[  16,   17,   19,  ..., 8987, 9031, 9041],\n",
      "        [1403, 5904, 2159,  ...,  153,  407,  609]]), tensor([[    0,     0,     0,  ..., 10144, 10225, 10290],\n",
      "        [  653,   699,  3370,  ...,   413,   104,   595]]), tensor([[    0,    23,    23,  ..., 10056, 10062, 10309],\n",
      "        [ 2791,  1573,  7683,  ...,   248,   110,   317]]), tensor([[    0,     3,     7,  ..., 10040, 10064, 10308],\n",
      "        [ 3209,  1507,   611,  ...,   413,   317,   513]]), tensor([[    0,     0,     0,  ..., 10056, 10089, 10301],\n",
      "        [ 1120,  2802,  3394,  ...,   379,   413,    97]]), tensor([[   0,    0,    0,  ..., 9652, 9663, 9944],\n",
      "        [1123, 1130, 1599,  ...,  524,  494,  361]]), tensor([[   0,    0,    0,  ..., 8989, 8996, 9949],\n",
      "        [1161, 1605, 2596,  ...,   20,  304,   17]]), tensor([[    0,     0,    18,  ..., 10174, 10228, 10301],\n",
      "        [  707,   740,  1790,  ...,   305,   379,    61]]), tensor([[    0,     0,     0,  ...,  9716,  9720, 10281],\n",
      "        [ 1534,  1536,  1942,  ...,   104,   461,   248]]), tensor([[   0,    0,    5,  ..., 8238, 8994, 9328],\n",
      "        [1578, 1645,  812,  ...,  183,  248,  461]]), tensor([[   8,    9,   14,  ..., 9283, 9505, 9516],\n",
      "        [4721, 1999, 4245,  ...,  522,  118,  340]]), tensor([[    0,     0,     9,  ...,  9388,  9482, 10025],\n",
      "        [ 3048,  3178,  7749,  ...,   508,   518,   291]]), tensor([[   0,    0,    0,  ..., 8566, 8571, 9364],\n",
      "        [3179, 3180, 3186,  ...,  356,   61,  317]]), tensor([[    0,     6,    14,  ..., 10196, 10210, 10213],\n",
      "        [ 1202,  1520,  2548,  ...,   183,   317,   330]]), tensor([[    6,     7,     7,  ..., 10054, 10102, 10177],\n",
      "        [ 1529,   887,   925,  ...,   461,    88,   104]]), tensor([[  16,   16,   16,  ..., 8949, 8968, 9061],\n",
      "        [1071, 1212, 1269,  ...,  508,  140,  124]]), tensor([[    0,     0,     0,  ...,  9813, 10196, 10288],\n",
      "        [ 1242,  1330,  1393,  ...,   559,   413,   513]]), tensor([[   0,    0,    0,  ..., 9317, 9320, 9408],\n",
      "        [1437, 1524, 1532,  ...,   88,  532,  110]]), tensor([[   0,    3,    5,  ..., 9773, 9785, 9786],\n",
      "        [1333,  718,  616,  ...,  110,  522,   88]]), tensor([[    0,     0,     0,  ...,  9907,  9980, 10175],\n",
      "        [ 1391,  2040,  2053,  ...,   248,   104,   104]]), tensor([[    3,     3,     3,  ..., 10275, 10301, 10305],\n",
      "        [  838,   910,   913,  ...,   330,   304,   595]]), tensor([[   0,    3,    6,  ..., 9853, 9878, 9891],\n",
      "        [2910,  936, 3498,  ...,  364,  124,   88]]), tensor([[    3,     3,     3,  ...,  9976, 10044, 10054],\n",
      "        [ 1286,  1290,  1291,  ...,   595,   379,   183]]), tensor([[    0,     0,     6,  ...,  9815,  9827, 10055],\n",
      "        [  656,   734,  5401,  ...,   609,   124,    17]]), tensor([[    0,     0,     3,  ..., 10162, 10180, 10258],\n",
      "        [ 2112,  2185,  2237,  ...,   124,   104,    88]]), tensor([[    0,     3,     3,  ..., 10130, 10246, 10248],\n",
      "        [ 2894,   888,  2033,  ...,   104,   413,   211]]), tensor([[    0,     0,     5,  ..., 10203, 10257, 10259],\n",
      "        [  917,  2867,   726,  ...,    61,    88,   379]]), tensor([[   0,    0,    5,  ..., 9314, 9322, 9471],\n",
      "        [1520, 2364,  615,  ...,  338,  413,  510]]), tensor([[   0,    0,    5,  ..., 9138, 9336, 9338],\n",
      "        [2435, 2980,  846,  ...,  124,  124,  317]]), tensor([[    0,     0,     0,  ...,  9902, 10022, 10030],\n",
      "        [ 1523,  1590,  2096,  ...,   124,   124,   338]]), tensor([[    3,     3,     3,  ..., 10103, 10126, 10176],\n",
      "        [  834,  1294,  2259,  ...,   104,   379,   305]]), tensor([[    0,     0,     0,  ...,  9137, 10067, 10087],\n",
      "        [ 1941,  2089,  2313,  ...,   609,   110,   104]]), tensor([[    0,     6,     9,  ..., 10210, 10213, 10239],\n",
      "        [  930,  5822,  7964,  ...,   232,   585,   413]]), tensor([[    0,     0,     0,  ..., 10154, 10195, 10210],\n",
      "        [  935,   994,  1008,  ...,   104,   110,   211]]), tensor([[   0,    0,    0,  ..., 9457, 9498, 9582],\n",
      "        [1094, 1118, 2176,  ...,  559,  351,   61]]), tensor([[    0,     0,     0,  ..., 10237, 10250, 10305],\n",
      "        [ 1119,  1518,  1530,  ...,   514,    88,   379]]), tensor([[    3,    17,    17,  ..., 10163, 10205, 10256],\n",
      "        [ 3621,  1223,  4227,  ...,   304,   413,    88]]), tensor([[    0,     0,     0,  ...,  9067,  9290, 10163],\n",
      "        [ 1344,  1425,  1508,  ...,   209,   248,   183]]), tensor([[    0,     0,     0,  ..., 10146, 10239, 10301],\n",
      "        [ 1311,  2895,  2911,  ...,   183,   566,   248]]), tensor([[    0,     3,     3,  ...,  9984, 10172, 10304],\n",
      "        [ 2862,   745,  1008,  ...,   251,   211,   461]]), tensor([[    0,     0,     0,  ..., 10224, 10268, 10301],\n",
      "        [ 1440,  1586,  2171,  ...,   379,   461,   247]]), tensor([[   0,    0,    0,  ..., 9598, 9603, 9643],\n",
      "        [1315, 1438, 3280,  ...,   72,  494,  104]]), tensor([[   0,    0,    3,  ..., 8903, 9077, 9526],\n",
      "        [2834, 2918, 1238,  ...,  248,    9,   88]]), tensor([[    0,     0,     3,  ..., 10022, 10054, 10127],\n",
      "        [ 1507,  2210,   758,  ...,   305,   609,   110]]), tensor([[   0,    0,    0,  ..., 9356, 9509, 9984],\n",
      "        [2828, 2856, 2858,  ...,   88,  585,   97]])]\n"
     ]
    }
   ],
   "source": [
    "print(clustered_train_edge_index) # List of Tensors"
   ]
  },
  {
   "cell_type": "code",
   "execution_count": 27,
   "id": "dd2753eb",
   "metadata": {
    "scrolled": true
   },
   "outputs": [
    {
     "name": "stdout",
     "output_type": "stream",
     "text": [
      "Cluster 0: torch.Size([2, 777])\n",
      "Cluster 1: torch.Size([2, 777])\n",
      "Cluster 2: torch.Size([2, 777])\n",
      "Cluster 3: torch.Size([2, 777])\n",
      "Cluster 4: torch.Size([2, 777])\n",
      "Cluster 5: torch.Size([2, 778])\n",
      "Cluster 6: torch.Size([2, 777])\n",
      "Cluster 7: torch.Size([2, 777])\n",
      "Cluster 8: torch.Size([2, 778])\n",
      "Cluster 9: torch.Size([2, 777])\n",
      "Cluster 10: torch.Size([2, 777])\n",
      "Cluster 11: torch.Size([2, 778])\n",
      "Cluster 12: torch.Size([2, 777])\n",
      "Cluster 13: torch.Size([2, 778])\n",
      "Cluster 14: torch.Size([2, 777])\n",
      "Cluster 15: torch.Size([2, 777])\n",
      "Cluster 16: torch.Size([2, 777])\n",
      "Cluster 17: torch.Size([2, 777])\n",
      "Cluster 18: torch.Size([2, 777])\n",
      "Cluster 19: torch.Size([2, 777])\n",
      "Cluster 20: torch.Size([2, 778])\n",
      "Cluster 21: torch.Size([2, 777])\n",
      "Cluster 22: torch.Size([2, 777])\n",
      "Cluster 23: torch.Size([2, 778])\n",
      "Cluster 24: torch.Size([2, 778])\n",
      "Cluster 25: torch.Size([2, 777])\n",
      "Cluster 26: torch.Size([2, 778])\n",
      "Cluster 27: torch.Size([2, 777])\n",
      "Cluster 28: torch.Size([2, 777])\n",
      "Cluster 29: torch.Size([2, 777])\n",
      "Cluster 30: torch.Size([2, 777])\n",
      "Cluster 31: torch.Size([2, 777])\n",
      "Cluster 32: torch.Size([2, 777])\n",
      "Cluster 33: torch.Size([2, 778])\n",
      "Cluster 34: torch.Size([2, 777])\n",
      "Cluster 35: torch.Size([2, 777])\n",
      "Cluster 36: torch.Size([2, 778])\n",
      "Cluster 37: torch.Size([2, 777])\n",
      "Cluster 38: torch.Size([2, 777])\n",
      "Cluster 39: torch.Size([2, 777])\n",
      "Cluster 40: torch.Size([2, 777])\n",
      "Cluster 41: torch.Size([2, 777])\n",
      "Cluster 42: torch.Size([2, 778])\n",
      "Cluster 43: torch.Size([2, 777])\n",
      "Cluster 44: torch.Size([2, 777])\n",
      "Cluster 45: torch.Size([2, 778])\n",
      "Cluster 46: torch.Size([2, 777])\n",
      "Cluster 47: torch.Size([2, 778])\n",
      "Cluster 48: torch.Size([2, 777])\n",
      "Cluster 49: torch.Size([2, 778])\n",
      "Cluster 50: torch.Size([2, 777])\n",
      "Cluster 51: torch.Size([2, 777])\n",
      "Cluster 52: torch.Size([2, 778])\n",
      "Cluster 53: torch.Size([2, 777])\n",
      "Cluster 54: torch.Size([2, 777])\n",
      "Cluster 55: torch.Size([2, 777])\n",
      "Cluster 56: torch.Size([2, 777])\n",
      "Cluster 57: torch.Size([2, 777])\n",
      "Cluster 58: torch.Size([2, 778])\n",
      "Cluster 59: torch.Size([2, 777])\n",
      "Cluster 60: torch.Size([2, 777])\n",
      "Cluster 61: torch.Size([2, 778])\n",
      "Cluster 62: torch.Size([2, 777])\n",
      "Cluster 63: torch.Size([2, 777])\n",
      "Cluster 64: torch.Size([2, 777])\n",
      "Cluster 65: torch.Size([2, 777])\n",
      "Cluster 66: torch.Size([2, 778])\n",
      "Cluster 67: torch.Size([2, 777])\n",
      "Cluster 68: torch.Size([2, 777])\n",
      "Cluster 69: torch.Size([2, 777])\n",
      "Cluster 70: torch.Size([2, 778])\n",
      "Cluster 71: torch.Size([2, 777])\n",
      "Cluster 72: torch.Size([2, 778])\n",
      "Cluster 73: torch.Size([2, 778])\n",
      "Cluster 74: torch.Size([2, 777])\n",
      "Cluster 75: torch.Size([2, 777])\n",
      "Cluster 76: torch.Size([2, 777])\n",
      "Cluster 77: torch.Size([2, 778])\n",
      "Cluster 78: torch.Size([2, 777])\n",
      "Cluster 79: torch.Size([2, 777])\n",
      "Cluster 80: torch.Size([2, 777])\n",
      "Cluster 81: torch.Size([2, 777])\n",
      "Cluster 82: torch.Size([2, 778])\n",
      "Cluster 83: torch.Size([2, 777])\n",
      "Cluster 84: torch.Size([2, 777])\n",
      "Cluster 85: torch.Size([2, 777])\n",
      "Cluster 86: torch.Size([2, 778])\n",
      "Cluster 87: torch.Size([2, 777])\n",
      "Cluster 88: torch.Size([2, 776])\n",
      "Cluster 89: torch.Size([2, 778])\n",
      "Cluster 90: torch.Size([2, 777])\n",
      "Cluster 91: torch.Size([2, 777])\n",
      "Cluster 92: torch.Size([2, 778])\n",
      "Cluster 93: torch.Size([2, 777])\n",
      "Cluster 94: torch.Size([2, 777])\n",
      "Cluster 95: torch.Size([2, 778])\n",
      "Cluster 96: torch.Size([2, 777])\n",
      "Cluster 97: torch.Size([2, 777])\n",
      "Cluster 98: torch.Size([2, 778])\n",
      "Cluster 99: torch.Size([2, 778])\n"
     ]
    }
   ],
   "source": [
    "# Checking dimensions of edge index tensor for each cluster\n",
    "for i, cluster_edge_index in enumerate(clustered_train_edge_index):\n",
    "    print(f\"Cluster {i}: {cluster_edge_index.shape}\")"
   ]
  },
  {
   "cell_type": "markdown",
   "id": "d9903c8b",
   "metadata": {},
   "source": [
    "## Sample and Aggregate Clusters"
   ]
  },
  {
   "cell_type": "code",
   "execution_count": 28,
   "id": "3d054bd2",
   "metadata": {},
   "outputs": [],
   "source": [
    "# Sample and aggregate multiple node groups.\n",
    "# Construct the induced subgraph of the aggregated node group. \n",
    "n_clusters_per_batch = 2\n",
    "sampled_clusters = np.random.choice(range(n_clusters), size=n_clusters_per_batch, replace=False)\n",
    "sampled_edge_index = torch.cat([clustered_train_edge_index[cluster] for cluster in sampled_clusters], dim=1)"
   ]
  },
  {
   "cell_type": "code",
   "execution_count": 29,
   "id": "7c088a61",
   "metadata": {},
   "outputs": [
    {
     "name": "stdout",
     "output_type": "stream",
     "text": [
      "[69 84]\n"
     ]
    }
   ],
   "source": [
    "print(sampled_clusters)"
   ]
  },
  {
   "cell_type": "code",
   "execution_count": 30,
   "id": "877ea023",
   "metadata": {},
   "outputs": [
    {
     "name": "stdout",
     "output_type": "stream",
     "text": [
      "tensor([[    6,     7,     7,  ...,  9902, 10022, 10030],\n",
      "        [ 1529,   887,   925,  ...,   124,   124,   338]])\n"
     ]
    }
   ],
   "source": [
    "print(sampled_edge_index)"
   ]
  },
  {
   "cell_type": "markdown",
   "id": "9a6a1cec",
   "metadata": {},
   "source": [
    "## LightGCN Model Implementation"
   ]
  },
  {
   "cell_type": "code",
   "execution_count": 31,
   "id": "bfc1502f",
   "metadata": {},
   "outputs": [],
   "source": [
    "# defines LightGCN model \n",
    "class LightGCN(MessagePassing):\n",
    "\n",
    "    def __init__(self, num_users, num_items, embedding_dim=64, K=3, add_self_loops=False):\n",
    "        \"\"\"\n",
    "        Initializes LightGCN Model\n",
    "        __________________________________\n",
    "\n",
    "        Args:\n",
    "            num_users (int): Number of users\n",
    "            num_items (int): Number of items\n",
    "            embedding_dim (int, optional): Dimensionality of embeddings. Defaults to 64.\n",
    "            K (int, optional): Number of message passing layers. Defaults to 3.\n",
    "            add_self_loops (bool, optional): Whether to add self loops for message passing. Defaults to False.\n",
    "        \"\"\"\n",
    "        super().__init__()\n",
    "        self.num_users = num_users\n",
    "        self.num_items = num_items\n",
    "        self.embedding_dim = embedding_dim\n",
    "        self.K = K\n",
    "        self.add_self_loops = add_self_loops\n",
    "\n",
    "        # Define user and item embeddings\n",
    "        self.users_emb = nn.Embedding(num_embeddings=self.num_users, embedding_dim=self.embedding_dim) # e_u^0        \n",
    "        self.items_emb = nn.Embedding(num_embeddings=self.num_items, embedding_dim=self.embedding_dim) # e_i^0\n",
    "\n",
    "        # Initialize user and item embeddings with normal distribution\n",
    "        nn.init.normal_(self.users_emb.weight, std=0.1)\n",
    "        nn.init.normal_(self.items_emb.weight, std=0.1)\n",
    "        \n",
    "    # ---------------------------------------------------#\n",
    "        \n",
    "    def forward(self, edge_index: Tensor):\n",
    "        \"\"\"\n",
    "        Forward propagation of LightGCN Model.\n",
    "        __________________________________\n",
    "        \n",
    "            Args: edge_index (SparseTensor): adjacency matrix\n",
    "            Returns: tuple (Tensor): e_u_k, e_u_0, e_i_k, e_i_0\n",
    "        \"\"\"\n",
    "        \n",
    "        # compute \\tilde{A}: symmetrically normalized adjacency matrix\n",
    "        # where \\tilde_A = D^(-1/2) * A * D^(-1/2)\n",
    "        \n",
    "        edge_index_norm = gcn_norm(edge_index=edge_index, \n",
    "                                   add_self_loops=self.add_self_loops)\n",
    "\n",
    "        # Concatenate user-item embeddings (obtain initial embedding matrix E^0)\n",
    "        emb_0 = torch.cat([self.users_emb.weight, self.items_emb.weight])\n",
    "        embs = [emb_0] # init list of embeddings (capture group for all embedding outputs)\n",
    "        emb_k = emb_0\n",
    "\n",
    "        # Performing Message Propagation over K-Layers\n",
    "        for i in range(self.K): # self.propagate inherited from PyG `MessagePassing` module\n",
    "            emb_k = self.propagate(edge_index=edge_index_norm[0], x=emb_k, norm=edge_index_norm[1])\n",
    "            embs.append(emb_k)\n",
    "        \n",
    "        # Compute final embeddings by taking the average of all the intermediate embeddings.\n",
    "        embs = torch.stack(embs, dim=1)\n",
    "        emb_final = torch.mean(embs, dim=1) # E^K\n",
    "        users_emb_final, items_emb_final = torch.split(emb_final, [self.num_users, self.num_items]) # split into e_u^K and e_i^K\n",
    "\n",
    "        # Return Output: e_u^K, e_u^0, e_i^K, e_i^0\n",
    "        return users_emb_final, self.users_emb.weight, items_emb_final, self.items_emb.weight\n",
    "    \n",
    "    # ---------------------------------------------------#\n",
    "    \n",
    "    def message(self, x_j, norm): # Normalize neighboring node features \n",
    "        return norm.view(-1, 1) * x_j    "
   ]
  },
  {
   "cell_type": "markdown",
   "id": "c8a5f597",
   "metadata": {},
   "source": [
    "## BPR Loss Function"
   ]
  },
  {
   "cell_type": "code",
   "execution_count": 32,
   "id": "ba23d390",
   "metadata": {},
   "outputs": [],
   "source": [
    "def bpr_loss(users_emb_final, users_emb_0,  # users final + initial embeddings\n",
    "             pos_items_emb_final, pos_items_emb_0, # pos items final + initial embeddings\n",
    "             neg_items_emb_final, neg_items_emb_0, # neg items final + initial embeddings\n",
    "             lambda_val): # regularization\n",
    "    \"\"\"\n",
    "    Bayesian Personalized Ranking Loss as described in https://arxiv.org/abs/1205.2618\n",
    "    __________________________________\n",
    "\n",
    "    Args:\n",
    "        users_emb_final (torch.Tensor): Embeddings of users after K message-passing layers (e_u_k)\n",
    "        users_emb_0 (torch.Tensor): Initial embeddings of users (e_u_0)\n",
    "        pos_items_emb_final (torch.Tensor): Embeddings of positive items after K message-passing layers (e_i_k)\n",
    "        pos_items_emb_0 (torch.Tensor): Initial embeddings of positive items (e_i_0)\n",
    "        neg_items_emb_final (torch.Tensor): Embeddings of negative items after K message-passing layers (e_i_k)\n",
    "        neg_items_emb_0 (torch.Tensor): Initial embeddings of negative items (e_i_0)\n",
    "        lambda_val (float): Regularization parameter for L2 loss.\n",
    "\n",
    "    Returns:\n",
    "        torch.Tensor: scalar bpr loss value\n",
    "    \"\"\"\n",
    "    # Compute L2 regularization loss for initial embeddings of users, positive items, and negative items\n",
    "    reg_loss = lambda_val * (users_emb_0.norm(2).pow(2) +\n",
    "                             pos_items_emb_0.norm(2).pow(2) +\n",
    "                             neg_items_emb_0.norm(2).pow(2))\n",
    "\n",
    "    # Compute predicted scores for positive items by taking dot product of user and positive item embeddings\n",
    "    pos_scores = torch.mul(users_emb_final, pos_items_emb_final)\n",
    "    pos_scores = torch.sum(pos_scores, dim=-1)\n",
    "\n",
    "    # Compute predicted scores for negative items by taking dot product of user and negative item embeddings\n",
    "    neg_scores = torch.mul(users_emb_final, neg_items_emb_final)\n",
    "    neg_scores = torch.sum(neg_scores, dim=-1)\n",
    "\n",
    "    # Compute BPR loss\n",
    "    bpr_loss = -torch.mean(torch.nn.functional.softplus(pos_scores - neg_scores))\n",
    "\n",
    "    # Combine BPR loss and regularization loss to compute total loss\n",
    "    loss = bpr_loss + reg_loss\n",
    "\n",
    "    return loss"
   ]
  },
  {
   "cell_type": "markdown",
   "id": "8df22e11",
   "metadata": {},
   "source": [
    "## Additional Helper Functions"
   ]
  },
  {
   "cell_type": "code",
   "execution_count": 33,
   "id": "5c1ffbfe",
   "metadata": {},
   "outputs": [],
   "source": [
    "def get_user_positive_items(edge_index):\n",
    "    \"\"\"\n",
    "    Generates dictionary of positive items for each user\n",
    "    __________________________________\n",
    "\n",
    "    Args: edge_index (torch.Tensor): 2 by N list of edges \n",
    "    Returns: dict: user -> list of positive items for each \n",
    "    \"\"\"\n",
    "    # KEYS: user IDs \n",
    "    # VALUES: lists of positive item IDs for each user\n",
    "    user_pos_items = {}\n",
    "    \n",
    "    # Iterate through edge index tensor\n",
    "    for i in range(edge_index.shape[1]):\n",
    "        \n",
    "        # Extract user and item IDs from the edge index tensor:\n",
    "        user = edge_index[0][i].item()\n",
    "        item = edge_index[1][i].item()\n",
    "        \n",
    "        # If user is not in user_pos_items dictionary, add user and initialize an empty list\n",
    "        if user not in user_pos_items:\n",
    "            user_pos_items[user] = []\n",
    "        \n",
    "        # Append the current item ID to the user's list of positive items\n",
    "        user_pos_items[user].append(item)\n",
    "        \n",
    "    return user_pos_items"
   ]
  },
  {
   "cell_type": "code",
   "execution_count": 34,
   "id": "2a92541d",
   "metadata": {},
   "outputs": [],
   "source": [
    "# Performs minibatch sampling on a set of edge indices for a graph dataset.\n",
    "def sample_mini_batch(batch_size, edge_index):\n",
    "    \n",
    "    # Perform structured negative sampling on the input edge_index\n",
    "    edges = structured_negative_sampling(edge_index)\n",
    "    \n",
    "    # Stack the resulting edges into a tensor\n",
    "    edges = torch.stack(edges, dim=0)\n",
    "    \n",
    "    # Randomly sample a set of indices with a specified batch size\n",
    "    indices = random.choices(\n",
    "        [i for i in range(edges[0].shape[0])], k=batch_size)\n",
    "    \n",
    "    # Extract the batch from the edges tensor\n",
    "    batch = edges[:, indices]\n",
    "    \n",
    "    # Separate the batch into user, positive item, and negative item indices\n",
    "    user_indices, pos_item_indices, neg_item_indices = batch[0], batch[1], batch[2]\n",
    "    \n",
    "    # Return user, positive item, and negative item indices in the minibatch\n",
    "    return user_indices, pos_item_indices, neg_item_indices"
   ]
  },
  {
   "cell_type": "markdown",
   "id": "8189b86d",
   "metadata": {},
   "source": [
    "## Evaluation Metrics"
   ]
  },
  {
   "cell_type": "code",
   "execution_count": 35,
   "id": "5c1d952b",
   "metadata": {},
   "outputs": [],
   "source": [
    "def RecallPrecision_ATk(groundTruth, r, k):\n",
    "    \"\"\"\n",
    "    Computes Recall @ k and Precision @ k\n",
    "    __________________________________\n",
    "\n",
    "    Args:\n",
    "        groundTruth (list[list[long]]): list of lists of item_ids. Containing highly rated items of each user. \n",
    "                                        Intuitively, list of true relevant items for each user.\n",
    "                                        \n",
    "        r (list[list[boolean]]): list of lists indicating whether each top k item recommended to each user\n",
    "                            is a top k ground truth (true relevant) item or not.\n",
    "                            \n",
    "        k (int): determines the top k items to compute precision and recall on.\n",
    "\n",
    "    Returns:\n",
    "        tuple: Recall @ k, Precision @ k\n",
    "    \"\"\"\n",
    "    \n",
    "    # number of correctly predicted items per user\n",
    "    num_correct_pred = torch.sum(r, dim=-1)  \n",
    "    \n",
    "    # number of items liked by each user in the test set\n",
    "    user_num_liked = torch.Tensor([len(groundTruth[i]) for i in range(len(groundTruth))])\n",
    "    \n",
    "    # recall @ k\n",
    "    recall = torch.mean(num_correct_pred / user_num_liked)\n",
    "    \n",
    "    # precision @ k\n",
    "    precision = torch.mean(num_correct_pred) / k\n",
    "    \n",
    "    return recall.item(), precision.item()"
   ]
  },
  {
   "cell_type": "code",
   "execution_count": 36,
   "id": "d2edf7aa",
   "metadata": {},
   "outputs": [],
   "source": [
    "def NDCGatK_r(groundTruth, r, k):\n",
    "    \"\"\"\n",
    "    Computes Normalized Discounted Cumulative Gain (NDCG) @ k\n",
    "    __________________________________\n",
    "\n",
    "    Args:\n",
    "        groundTruth (list): list of lists containing highly rated items of each user\n",
    "        r (list): list of lists indicating whether each top k item recommended to each user\n",
    "            is a top k ground truth item or not\n",
    "        k (int): determines the top k items to compute ndcg on\n",
    "\n",
    "    Returns:\n",
    "        float: ndcg @ k\n",
    "    \"\"\"\n",
    "    assert len(r) == len(groundTruth)\n",
    "\n",
    "    test_matrix = torch.zeros((len(r), k))\n",
    "\n",
    "    for i, items in enumerate(groundTruth):\n",
    "        length = min(len(items), k)\n",
    "        test_matrix[i, :length] = 1\n",
    "    max_r = test_matrix\n",
    "    idcg = torch.sum(max_r * 1. / torch.log2(torch.arange(2, k + 2)), axis=1)\n",
    "    dcg = r * (1. / torch.log2(torch.arange(2, k + 2)))\n",
    "    dcg = torch.sum(dcg, axis=1)\n",
    "    idcg[idcg == 0.] = 1.\n",
    "    ndcg = dcg / idcg\n",
    "    ndcg[torch.isnan(ndcg)] = 0.\n",
    "    return torch.mean(ndcg).item()"
   ]
  },
  {
   "cell_type": "code",
   "execution_count": 37,
   "id": "2286eaa5",
   "metadata": {},
   "outputs": [],
   "source": [
    "def get_metrics(model, \n",
    "                input_edge_index, # Adj_mat based edge index\n",
    "                input_exclude_edge_indices, # adj_mat based exclude edge index\n",
    "                k):\n",
    "    \"\"\"\n",
    "    Wrapper function for computing evaluation metrics: recall, precision, and ndcg @ k\n",
    "    __________________________________\n",
    "\n",
    "    Args:\n",
    "        model (LighGCN): LightGCN model\n",
    "        \n",
    "        edge_index (torch.Tensor): 2 by N list of edges for split to evaluate\n",
    "        \n",
    "        exclude_edge_indices ([type]): 2 by N list of edges for split to discount from evaluation\n",
    "        \n",
    "        k (int): determines the top k items to compute metrics on\n",
    "\n",
    "    Returns:\n",
    "        tuple: recall @ k, precision @ k, ndcg @ k\n",
    "    \"\"\"\n",
    "    # Obtain user and item embeddings from the model\n",
    "    user_embedding = model.users_emb.weight\n",
    "    item_embedding = model.items_emb.weight\n",
    "    \n",
    "    # Convert edge indices from adjacency matrix-based format to interaction matrix-based format:\n",
    "    edge_index = convert_adj_mat_edge_index_to_r_mat_edge_index(input_edge_index)\n",
    "\n",
    "    # Edge indices to be excluded (i.e. training edge indices)\n",
    "    exclude_edge_indices = [convert_adj_mat_edge_index_to_r_mat_edge_index(exclude_edge_index) \\\n",
    "                                      for exclude_edge_index in input_exclude_edge_indices]\n",
    "\n",
    "    # Compute predicted interaction matrix (Ratings Matrix)\n",
    "    r_mat_rating = torch.matmul(user_embedding, item_embedding.T)\n",
    "    rating = r_mat_rating\n",
    "   \n",
    "    # --------------------------------------------------------- #\n",
    "    # Mask the ratings for items that have already been seen by each user\n",
    "    # setting the corresponding values to a very small number. \n",
    "    # This ensures that the model doesn't recommend items the user has already interacted with\n",
    "\n",
    "    for exclude_edge_index in exclude_edge_indices:\n",
    "        \n",
    "        user_pos_items = get_user_positive_items(exclude_edge_index)\n",
    "        exclude_users = []\n",
    "        exclude_items = []\n",
    "        \n",
    "        for user, items in user_pos_items.items():\n",
    "            \n",
    "            exclude_users.extend([user] * len(items))\n",
    "            exclude_items.extend(items)\n",
    "   \n",
    "        # Set excluded entry to small number\n",
    "        rating[exclude_users, exclude_items] = -(1 << 10)\n",
    "        \n",
    "    # --------------------------------------------------------- #\n",
    "\n",
    "    # Get Top K recommendations for each user\n",
    "    _, top_K_items = torch.topk(rating, k=k)\n",
    "\n",
    "    # Get list of unique users in evaluated edge index,\n",
    "    # Create dictionary of users with their corresponding positive items:\n",
    "    users = edge_index[0].unique()\n",
    "    test_user_pos_items = get_user_positive_items(edge_index)\n",
    "    test_user_pos_items_list = [test_user_pos_items[user.item()] for user in users]\n",
    "\n",
    "    # Iterate through each user and compute the intersection of predicted relevant items\n",
    "    # and actual relevant items for each user\n",
    "    r = []\n",
    "    for user in users:\n",
    "        user_true_relevant_item = test_user_pos_items[user.item()]\n",
    "        label = list(map(lambda x: x in user_true_relevant_item, top_K_items[user]))\n",
    "        r.append(label)\n",
    "    r = torch.Tensor(np.array(r).astype('float'))\n",
    "\n",
    "    # Calculate Recall, Precision, and NDCG values at k\n",
    "    recall, precision = RecallPrecision_ATk(test_user_pos_items_list, r, k)\n",
    "    ndcg = NDCGatK_r(test_user_pos_items_list, r, k)\n",
    "\n",
    "    return recall, precision, ndcg"
   ]
  },
  {
   "cell_type": "markdown",
   "id": "45711527",
   "metadata": {},
   "source": [
    "## Model Evaluation Helper Function"
   ]
  },
  {
   "cell_type": "code",
   "execution_count": 38,
   "id": "5057d985",
   "metadata": {},
   "outputs": [],
   "source": [
    "def evaluation(model, \n",
    "               edge_index, # adj_mat based edge index\n",
    "               exclude_edge_indices,  # adj_mat based exclude edge index\n",
    "               k, \n",
    "               lambda_val):\n",
    "    \"\"\"\n",
    "    Evaluates model loss and metrics including recall, precision, ndcg @ k\n",
    "    __________________________________\n",
    "    \n",
    "    Args:\n",
    "        model (LighGCN): lightgcn model\n",
    "        edge_index (torch.Tensor): 2 by N list of edges for split to evaluate\n",
    "        sparse_edge_index (sparseTensor): sparse adjacency matrix for split to evaluate\n",
    "        exclude_edge_indices ([type]): 2 by N list of edges for split to discount from evaluation\n",
    "        k (int): determines the top k items to compute metrics on\n",
    "        lambda_val (float): determines lambda for bpr loss\n",
    "\n",
    "    Returns:\n",
    "        tuple: bpr loss, recall @ k, precision @ k, ndcg @ k\n",
    "    \"\"\"\n",
    "    \n",
    "    # Get user and item embeddings from the model\n",
    "    users_emb_final, users_emb_0, items_emb_final, items_emb_0 = model.forward(edge_index)\n",
    "    \n",
    "    # Convert adjacency matrix-based edge index to a user-item interaction matrix-based edge index\n",
    "    r_mat_edge_index = convert_adj_mat_edge_index_to_r_mat_edge_index(edge_index)\n",
    "    \n",
    "    # Perform structured negative sampling to obtain the user, positive item, and negative item indices\n",
    "    edges = structured_negative_sampling(r_mat_edge_index, contains_neg_self_loops=False)\n",
    "    user_indices, pos_item_indices, neg_item_indices = edges[0], edges[1], edges[2]\n",
    "    \n",
    "    # Retrieve embeddings for feeding into bpr_loss function\n",
    "    users_emb_final, users_emb_0 = users_emb_final[user_indices], users_emb_0[user_indices]\n",
    "    pos_items_emb_final, pos_items_emb_0 = items_emb_final[pos_item_indices], items_emb_0[pos_item_indices]\n",
    "    neg_items_emb_final, neg_items_emb_0 = items_emb_final[neg_item_indices], items_emb_0[neg_item_indices]\n",
    "\n",
    "    # Compute the BPR loss:\n",
    "    loss = bpr_loss(users_emb_final, users_emb_0, \n",
    "                    pos_items_emb_final, pos_items_emb_0,\n",
    "                    neg_items_emb_final, neg_items_emb_0, \n",
    "                    lambda_val).item()\n",
    "\n",
    "    # Calculate recall, precision, and NDCG metrics using the get_metrics function:\n",
    "    recall, precision, ndcg = get_metrics(model, \n",
    "                                          edge_index, \n",
    "                                          exclude_edge_indices, \n",
    "                                          k)\n",
    "    \n",
    "    return loss, recall, precision, ndcg"
   ]
  },
  {
   "cell_type": "code",
   "execution_count": 39,
   "id": "0681a103",
   "metadata": {},
   "outputs": [],
   "source": [
    "def get_embs_for_bpr(model, input_edge_index):\n",
    "    \n",
    "    # FORWARD PASS:\n",
    "    # Get user and item embeddings from the model, convert to interaction matrix edge index format\n",
    "    users_emb_final, users_emb_0, items_emb_final, items_emb_0 = model.forward(input_edge_index)\n",
    "    edge_index_to_use = convert_adj_mat_edge_index_to_r_mat_edge_index(input_edge_index)\n",
    "    \n",
    "    # Sample a mini-batch of user indices, positive item indices, and negative item indices:\n",
    "    user_indices, pos_item_indices, neg_item_indices = sample_mini_batch(BATCH_SIZE, edge_index_to_use)\n",
    "    \n",
    "    # Push tensor to device (if using GPU)\n",
    "    user_indices, pos_item_indices, neg_item_indices = user_indices.to(device), pos_item_indices.to(device), neg_item_indices.to(device)\n",
    "\n",
    "    # Retrieve the embeddings for computing BPR loss\n",
    "    users_emb_final, users_emb_0 = users_emb_final[user_indices], users_emb_0[user_indices]\n",
    "    pos_items_emb_final, pos_items_emb_0 = items_emb_final[pos_item_indices], items_emb_0[pos_item_indices]\n",
    "    neg_items_emb_final, neg_items_emb_0 = items_emb_final[neg_item_indices], items_emb_0[neg_item_indices]\n",
    "   \n",
    "    return users_emb_final, users_emb_0, pos_items_emb_final, pos_items_emb_0, neg_items_emb_final, neg_items_emb_0"
   ]
  },
  {
   "cell_type": "markdown",
   "id": "8c1cb841",
   "metadata": {},
   "source": [
    "## Instantiate Model"
   ]
  },
  {
   "cell_type": "code",
   "execution_count": 41,
   "id": "72d098f9",
   "metadata": {},
   "outputs": [],
   "source": [
    "ITERATIONS = 10000\n",
    "EPOCHS = 10\n",
    "BATCH_SIZE = 1024\n",
    "LR = 1e-3\n",
    "ITERS_PER_EVAL = 200\n",
    "ITERS_PER_LR_DECAY = 200\n",
    "K = 20\n",
    "LAMBDA = 1e-6"
   ]
  },
  {
   "cell_type": "code",
   "execution_count": 72,
   "id": "11dd4107",
   "metadata": {},
   "outputs": [],
   "source": [
    "model = LightGCN(num_users, num_items, embedding_dim=64, K=3)\n",
    "optimizer = optim.Adam(model.parameters(), lr=LR)\n",
    "scheduler = optim.lr_scheduler.ExponentialLR(optimizer, gamma=0.95)\n",
    "\n",
    "model = model.to(device)\n",
    "model.train() # Set model to training mode\n",
    "\n",
    "edge_index = edge_index.to(device)\n",
    "train_edge_index = train_edge_index.to(device)\n",
    "val_edge_index = val_edge_index.to(device)"
   ]
  },
  {
   "cell_type": "markdown",
   "id": "11e4d143",
   "metadata": {},
   "source": [
    "## Model Training"
   ]
  },
  {
   "cell_type": "code",
   "execution_count": 73,
   "id": "5bb9b3f9",
   "metadata": {
    "scrolled": true
   },
   "outputs": [
    {
     "data": {
      "application/vnd.jupyter.widget-view+json": {
       "model_id": "457142edf3dd4a8a8bd3e6ae767ae466",
       "version_major": 2,
       "version_minor": 0
      },
      "text/plain": [
       "HBox(children=(FloatProgress(value=0.0, max=10000.0), HTML(value='')))"
      ]
     },
     "metadata": {},
     "output_type": "display_data"
    },
    {
     "name": "stdout",
     "output_type": "stream",
     "text": [
      "[Iteration 0/10000] train_loss: -0.69338, val_loss: -0.69955, val_recall@20: 0.00119, val_precision@20: 0.00054, val_ndcg@20: 0.00093\n",
      "[Iteration 200/10000] train_loss: -6.96231, val_loss: -5.22101, val_recall@20: 0.07362, val_precision@20: 0.02505, val_ndcg@20: 0.04612\n",
      "[Iteration 400/10000] train_loss: -29.73339, val_loss: -21.40298, val_recall@20: 0.08414, val_precision@20: 0.03156, val_ndcg@20: 0.06377\n",
      "[Iteration 600/10000] train_loss: -58.18851, val_loss: -44.98539, val_recall@20: 0.0962, val_precision@20: 0.03436, val_ndcg@20: 0.07833\n",
      "[Iteration 800/10000] train_loss: -98.38813, val_loss: -75.0129, val_recall@20: 0.10406, val_precision@20: 0.0358, val_ndcg@20: 0.08284\n",
      "[Iteration 1000/10000] train_loss: -147.86665, val_loss: -107.88813, val_recall@20: 0.10682, val_precision@20: 0.03743, val_ndcg@20: 0.07919\n",
      "[Iteration 1200/10000] train_loss: -211.28795, val_loss: -144.63855, val_recall@20: 0.10839, val_precision@20: 0.03752, val_ndcg@20: 0.08001\n",
      "[Iteration 1400/10000] train_loss: -256.00565, val_loss: -183.13841, val_recall@20: 0.11546, val_precision@20: 0.03888, val_ndcg@20: 0.08599\n",
      "[Iteration 1600/10000] train_loss: -290.32605, val_loss: -224.46178, val_recall@20: 0.11779, val_precision@20: 0.04005, val_ndcg@20: 0.08694\n",
      "[Iteration 1800/10000] train_loss: -372.16306, val_loss: -264.86673, val_recall@20: 0.1158, val_precision@20: 0.03915, val_ndcg@20: 0.08782\n",
      "[Iteration 2000/10000] train_loss: -415.71793, val_loss: -306.64978, val_recall@20: 0.11935, val_precision@20: 0.04069, val_ndcg@20: 0.08904\n",
      "[Iteration 2200/10000] train_loss: -459.771, val_loss: -345.67783, val_recall@20: 0.12363, val_precision@20: 0.04114, val_ndcg@20: 0.09088\n",
      "[Iteration 2400/10000] train_loss: -540.07281, val_loss: -390.10535, val_recall@20: 0.12743, val_precision@20: 0.04213, val_ndcg@20: 0.09326\n",
      "[Iteration 2600/10000] train_loss: -605.79102, val_loss: -428.74347, val_recall@20: 0.12571, val_precision@20: 0.04213, val_ndcg@20: 0.0919\n",
      "[Iteration 2800/10000] train_loss: -631.5238, val_loss: -462.22864, val_recall@20: 0.12575, val_precision@20: 0.04186, val_ndcg@20: 0.09186\n",
      "[Iteration 3000/10000] train_loss: -701.28394, val_loss: -505.01474, val_recall@20: 0.12692, val_precision@20: 0.04231, val_ndcg@20: 0.09493\n",
      "[Iteration 3200/10000] train_loss: -755.64984, val_loss: -536.9201, val_recall@20: 0.12566, val_precision@20: 0.04168, val_ndcg@20: 0.09454\n",
      "[Iteration 3400/10000] train_loss: -802.46661, val_loss: -573.64551, val_recall@20: 0.1285, val_precision@20: 0.04241, val_ndcg@20: 0.09344\n",
      "[Iteration 3600/10000] train_loss: -836.13824, val_loss: -619.57635, val_recall@20: 0.12817, val_precision@20: 0.04231, val_ndcg@20: 0.09339\n",
      "[Iteration 3800/10000] train_loss: -877.98267, val_loss: -646.17535, val_recall@20: 0.12913, val_precision@20: 0.0425, val_ndcg@20: 0.09401\n",
      "[Iteration 4000/10000] train_loss: -913.9259, val_loss: -677.38391, val_recall@20: 0.13125, val_precision@20: 0.04286, val_ndcg@20: 0.09392\n",
      "[Iteration 4200/10000] train_loss: -984.53064, val_loss: -704.98364, val_recall@20: 0.12912, val_precision@20: 0.04277, val_ndcg@20: 0.09383\n",
      "[Iteration 4400/10000] train_loss: -1036.90234, val_loss: -739.89703, val_recall@20: 0.12782, val_precision@20: 0.04213, val_ndcg@20: 0.09306\n",
      "[Iteration 4600/10000] train_loss: -1065.19824, val_loss: -768.48102, val_recall@20: 0.12875, val_precision@20: 0.04277, val_ndcg@20: 0.09598\n",
      "[Iteration 4800/10000] train_loss: -1099.48706, val_loss: -796.49335, val_recall@20: 0.12945, val_precision@20: 0.04277, val_ndcg@20: 0.09484\n",
      "[Iteration 5000/10000] train_loss: -1111.10229, val_loss: -822.8689, val_recall@20: 0.13272, val_precision@20: 0.0434, val_ndcg@20: 0.09452\n",
      "[Iteration 5200/10000] train_loss: -1140.53174, val_loss: -849.85052, val_recall@20: 0.13447, val_precision@20: 0.04376, val_ndcg@20: 0.09527\n",
      "[Iteration 5400/10000] train_loss: -1147.5166, val_loss: -888.27759, val_recall@20: 0.13304, val_precision@20: 0.04358, val_ndcg@20: 0.09365\n",
      "[Iteration 5600/10000] train_loss: -1255.86304, val_loss: -897.44769, val_recall@20: 0.13505, val_precision@20: 0.04376, val_ndcg@20: 0.09202\n",
      "[Iteration 5800/10000] train_loss: -1256.33643, val_loss: -920.49054, val_recall@20: 0.13513, val_precision@20: 0.04394, val_ndcg@20: 0.09411\n",
      "[Iteration 6000/10000] train_loss: -1289.45691, val_loss: -936.3869, val_recall@20: 0.13582, val_precision@20: 0.04394, val_ndcg@20: 0.0963\n",
      "[Iteration 6200/10000] train_loss: -1296.53809, val_loss: -954.32367, val_recall@20: 0.13218, val_precision@20: 0.04394, val_ndcg@20: 0.09947\n",
      "[Iteration 6400/10000] train_loss: -1328.27966, val_loss: -974.29474, val_recall@20: 0.13413, val_precision@20: 0.04349, val_ndcg@20: 0.09617\n",
      "[Iteration 6600/10000] train_loss: -1352.47986, val_loss: -995.81549, val_recall@20: 0.13388, val_precision@20: 0.04367, val_ndcg@20: 0.09358\n",
      "[Iteration 6800/10000] train_loss: -1382.54993, val_loss: -1029.12244, val_recall@20: 0.13464, val_precision@20: 0.04412, val_ndcg@20: 0.09586\n",
      "[Iteration 7000/10000] train_loss: -1426.98962, val_loss: -1033.8512, val_recall@20: 0.13797, val_precision@20: 0.04448, val_ndcg@20: 0.09373\n",
      "[Iteration 7200/10000] train_loss: -1565.31091, val_loss: -1049.33936, val_recall@20: 0.1349, val_precision@20: 0.04394, val_ndcg@20: 0.09276\n",
      "[Iteration 7400/10000] train_loss: -1495.81165, val_loss: -1056.06738, val_recall@20: 0.13669, val_precision@20: 0.04412, val_ndcg@20: 0.09328\n",
      "[Iteration 7600/10000] train_loss: -1507.25659, val_loss: -1068.02148, val_recall@20: 0.13553, val_precision@20: 0.04385, val_ndcg@20: 0.09296\n",
      "[Iteration 7800/10000] train_loss: -1570.77478, val_loss: -1089.55969, val_recall@20: 0.13658, val_precision@20: 0.04403, val_ndcg@20: 0.09361\n",
      "[Iteration 8000/10000] train_loss: -1561.19006, val_loss: -1122.66138, val_recall@20: 0.13559, val_precision@20: 0.04376, val_ndcg@20: 0.0937\n",
      "[Iteration 8200/10000] train_loss: -1516.91357, val_loss: -1118.57239, val_recall@20: 0.13672, val_precision@20: 0.04403, val_ndcg@20: 0.09367\n",
      "[Iteration 8400/10000] train_loss: -1562.81311, val_loss: -1135.2384, val_recall@20: 0.13798, val_precision@20: 0.0443, val_ndcg@20: 0.09378\n",
      "[Iteration 8600/10000] train_loss: -1593.62561, val_loss: -1152.2218, val_recall@20: 0.13782, val_precision@20: 0.04421, val_ndcg@20: 0.09378\n",
      "[Iteration 8800/10000] train_loss: -1586.5354, val_loss: -1166.11584, val_recall@20: 0.13762, val_precision@20: 0.04421, val_ndcg@20: 0.09457\n",
      "[Iteration 9000/10000] train_loss: -1592.09045, val_loss: -1173.4032, val_recall@20: 0.13773, val_precision@20: 0.04439, val_ndcg@20: 0.09435\n",
      "[Iteration 9200/10000] train_loss: -1690.60413, val_loss: -1173.23669, val_recall@20: 0.13564, val_precision@20: 0.04421, val_ndcg@20: 0.09402\n",
      "[Iteration 9400/10000] train_loss: -1617.2583, val_loss: -1189.21643, val_recall@20: 0.13495, val_precision@20: 0.0443, val_ndcg@20: 0.09382\n",
      "[Iteration 9600/10000] train_loss: -1611.6665, val_loss: -1200.22168, val_recall@20: 0.13515, val_precision@20: 0.04421, val_ndcg@20: 0.09445\n",
      "[Iteration 9800/10000] train_loss: -1668.12366, val_loss: -1204.2168, val_recall@20: 0.13483, val_precision@20: 0.04403, val_ndcg@20: 0.09325\n",
      "\n"
     ]
    }
   ],
   "source": [
    "# INITIALIZE EMPTY LISTS\n",
    "train_losses = []\n",
    "val_losses = []\n",
    "val_recall_at_ks = []\n",
    "val_precision = []\n",
    "val_ndcg = []\n",
    "\n",
    "# START TRAINING LOOP\n",
    "for iter in tqdm(range(ITERATIONS)):\n",
    "    \n",
    "    # FORWARD PROPAGATION ---------------------------------------\n",
    "    users_emb_final, users_emb_0,  pos_items_emb_final, pos_items_emb_0, neg_items_emb_final, neg_items_emb_0 \\\n",
    "                = get_embs_for_bpr(model, train_edge_index)\n",
    "    \n",
    "    # LOSS COMPUTATION\n",
    "    train_loss = bpr_loss(users_emb_final, users_emb_0, \n",
    "                          pos_items_emb_final, pos_items_emb_0, \n",
    "                          neg_items_emb_final, neg_items_emb_0, \n",
    "                          LAMBDA)\n",
    "    \n",
    "    # BACKPROPAGATION AND UPDATE\n",
    "    optimizer.zero_grad()\n",
    "    train_loss.backward()\n",
    "    optimizer.step()\n",
    "\n",
    "    # VALIDATION SET -------------------------------------------\n",
    "    # Perform the evaluation of model on validation set every ITERS_PER_EVAL iterations:\n",
    "    \n",
    "    if iter % ITERS_PER_EVAL == 0:\n",
    "        model.eval()\n",
    "        \n",
    "        # COMPUTE VALIDATION LOSS, RECALL, PRECISION, AND NDCG\n",
    "        with torch.no_grad():\n",
    "            val_loss, recall, precision, ndcg = evaluation(model, \n",
    "                                                           val_edge_index, \n",
    "                                                           [train_edge_index], \n",
    "                                                           K, \n",
    "                                                           LAMBDA\n",
    "                                                          )\n",
    "\n",
    "            print(f\"[Iteration {iter}/{ITERATIONS}] train_loss: {round(train_loss.item(), 5)}, val_loss: {round(val_loss, 5)}, val_recall@{K}: {round(recall, 5)}, val_precision@{K}: {round(precision, 5)}, val_ndcg@{K}: {round(ndcg, 5)}\")\n",
    "\n",
    "            # APPEND LOSSES AND RECALL VALUES TO RESULTS\n",
    "            train_losses.append(train_loss.item())\n",
    "            val_losses.append(val_loss)\n",
    "            val_recall_at_ks.append(round(recall, 5))\n",
    "            val_precision.append(round(precision, 5))\n",
    "            val_ndcg.append(round(ndcg, 5))\n",
    "            \n",
    "        model.train()\n",
    "        \n",
    "    # ---------------------------------------------------------      \n",
    "        \n",
    "    # ADJUSTING LEARNING RATE WITH SCHEDULER\n",
    "    if iter % ITERS_PER_LR_DECAY == 0 and iter != 0:\n",
    "        scheduler.step()"
   ]
  },
  {
   "cell_type": "markdown",
   "id": "a06c7611",
   "metadata": {},
   "source": [
    "## Training and Validation Loss Plots"
   ]
  },
  {
   "cell_type": "code",
   "execution_count": 74,
   "id": "34ea59db",
   "metadata": {},
   "outputs": [
    {
     "data": {
      "image/png": "[encoded data removed]",
      "text/plain": [
       "<Figure size 640x480 with 1 Axes>"
      ]
     },
     "metadata": {},
     "output_type": "display_data"
    }
   ],
   "source": [
    "iters = [iter * ITERS_PER_EVAL for iter in range(len(train_losses))]\n",
    "plt.plot(iters, train_losses, label='Train')\n",
    "plt.plot(iters, val_losses, label='Validation')\n",
    "plt.xlabel('Iteration')\n",
    "plt.ylabel('Loss')\n",
    "plt.title('Training and Validation Loss Curves')\n",
    "plt.legend()\n",
    "plt.show()"
   ]
  },
  {
   "cell_type": "markdown",
   "id": "9fed9c7e",
   "metadata": {},
   "source": [
    "## Recall, Precision and NDCG Plots"
   ]
  },
  {
   "cell_type": "code",
   "execution_count": 81,
   "id": "4ad46330",
   "metadata": {},
   "outputs": [
    {
     "data": {
      "image/png": "[encoded data removed]",
      "text/plain": [
       "<Figure size 640x480 with 1 Axes>"
      ]
     },
     "metadata": {},
     "output_type": "display_data"
    }
   ],
   "source": [
    "plt.plot(iters, val_recall_at_ks, label='Recall')\n",
    "plt.plot(iters, val_precision, label='Precision')\n",
    "plt.plot(iters, val_ndcg, label='NDCG')\n",
    "plt.xlabel('Iteration')\n",
    "plt.ylabel('Metrics')\n",
    "plt.legend()\n",
    "plt.show()"
   ]
  },
  {
   "cell_type": "markdown",
   "id": "82ba5171",
   "metadata": {},
   "source": [
    "## Evaluation of Results"
   ]
  },
  {
   "cell_type": "code",
   "execution_count": 78,
   "id": "e01f8512",
   "metadata": {},
   "outputs": [
    {
     "name": "stdout",
     "output_type": "stream",
     "text": [
      "[test_loss: -1200.48206, test_recall@20: 0.12623, test_precision@20: 0.04538, test_ndcg@20: 0.09474\n"
     ]
    }
   ],
   "source": [
    "model.eval()\n",
    "test_edge_index = test_edge_index.to(device)\n",
    "\n",
    "test_loss, test_recall, test_precision, test_ndcg = evaluation(model, \n",
    "                                                               test_edge_index, \n",
    "                                                               [train_edge_index, val_edge_index], \n",
    "                                                               K, \n",
    "                                                               LAMBDA\n",
    "                                                              )\n",
    "\n",
    "print(f\"[test_loss: {round(test_loss, 5)}, test_recall@{K}: {round(test_recall, 5)}, test_precision@{K}: {round(test_precision, 5)}, test_ndcg@{K}: {round(test_ndcg, 5)}\")"
   ]
  },
  {
   "cell_type": "markdown",
   "id": "e66ef457",
   "metadata": {},
   "source": [
    "## Reinitialize Model"
   ]
  },
  {
   "cell_type": "code",
   "execution_count": 42,
   "id": "7e982118",
   "metadata": {},
   "outputs": [],
   "source": [
    "model = LightGCN(num_users, num_items, embedding_dim=64, K=3)\n",
    "optimizer = optim.Adam(model.parameters(), lr=LR)\n",
    "scheduler = optim.lr_scheduler.ExponentialLR(optimizer, gamma=0.95)\n",
    "\n",
    "model = model.to(device)\n",
    "model.train() # Set model to training mode\n",
    "\n",
    "edge_index = edge_index.to(device)\n",
    "train_edge_index = train_edge_index.to(device)\n",
    "val_edge_index = val_edge_index.to(device)"
   ]
  },
  {
   "cell_type": "markdown",
   "id": "e2beeb99",
   "metadata": {},
   "source": [
    "## Updating Training Pipeline for Clustered Edge Index"
   ]
  },
  {
   "cell_type": "code",
   "execution_count": 43,
   "id": "ef5d305b",
   "metadata": {
    "scrolled": true
   },
   "outputs": [
    {
     "data": {
      "application/vnd.jupyter.widget-view+json": {
       "model_id": "187ea49b30604406996f1123cf612ef9",
       "version_major": 2,
       "version_minor": 0
      },
      "text/plain": [
       "HBox(children=(FloatProgress(value=0.0, max=10000.0), HTML(value='')))"
      ]
     },
     "metadata": {},
     "output_type": "display_data"
    },
    {
     "name": "stdout",
     "output_type": "stream",
     "text": [
      "[Iteration 0/10000] train_loss: -0.69816, val_loss: -0.69952, val_recall@20: 0.00157, val_precision@20: 0.00063, val_ndcg@20: 0.001\n",
      "[Iteration 200/10000] train_loss: -2.32697, val_loss: -2.50571, val_recall@20: 0.10132, val_precision@20: 0.03599, val_ndcg@20: 0.06538\n",
      "[Iteration 400/10000] train_loss: -10.55312, val_loss: -11.88717, val_recall@20: 0.11471, val_precision@20: 0.04069, val_ndcg@20: 0.07857\n",
      "[Iteration 600/10000] train_loss: -23.80523, val_loss: -25.67762, val_recall@20: 0.121, val_precision@20: 0.04268, val_ndcg@20: 0.08236\n",
      "[Iteration 800/10000] train_loss: -37.81372, val_loss: -42.21241, val_recall@20: 0.12644, val_precision@20: 0.04376, val_ndcg@20: 0.08923\n",
      "[Iteration 1000/10000] train_loss: -53.10799, val_loss: -61.2315, val_recall@20: 0.12866, val_precision@20: 0.04439, val_ndcg@20: 0.09141\n",
      "[Iteration 1200/10000] train_loss: -78.57045, val_loss: -82.30348, val_recall@20: 0.13612, val_precision@20: 0.04467, val_ndcg@20: 0.0933\n",
      "[Iteration 1400/10000] train_loss: -93.22414, val_loss: -104.26309, val_recall@20: 0.13423, val_precision@20: 0.04458, val_ndcg@20: 0.09711\n",
      "[Iteration 1600/10000] train_loss: -112.15495, val_loss: -125.79532, val_recall@20: 0.1331, val_precision@20: 0.04403, val_ndcg@20: 0.0921\n",
      "[Iteration 1800/10000] train_loss: -148.90109, val_loss: -148.58295, val_recall@20: 0.13259, val_precision@20: 0.04458, val_ndcg@20: 0.09392\n",
      "[Iteration 2000/10000] train_loss: -167.86467, val_loss: -173.25752, val_recall@20: 0.13516, val_precision@20: 0.04476, val_ndcg@20: 0.09523\n",
      "[Iteration 2200/10000] train_loss: -169.31064, val_loss: -197.86505, val_recall@20: 0.13733, val_precision@20: 0.04485, val_ndcg@20: 0.09896\n",
      "[Iteration 2400/10000] train_loss: -182.92358, val_loss: -216.26479, val_recall@20: 0.13862, val_precision@20: 0.0453, val_ndcg@20: 0.09937\n",
      "[Iteration 2600/10000] train_loss: -226.01863, val_loss: -238.90936, val_recall@20: 0.13638, val_precision@20: 0.0453, val_ndcg@20: 0.09855\n",
      "[Iteration 2800/10000] train_loss: -240.77278, val_loss: -263.23376, val_recall@20: 0.13742, val_precision@20: 0.04503, val_ndcg@20: 0.09819\n",
      "[Iteration 3000/10000] train_loss: -261.81378, val_loss: -283.18469, val_recall@20: 0.13824, val_precision@20: 0.04503, val_ndcg@20: 0.0991\n",
      "[Iteration 3200/10000] train_loss: -284.64297, val_loss: -306.367, val_recall@20: 0.13912, val_precision@20: 0.04521, val_ndcg@20: 0.09943\n",
      "[Iteration 3400/10000] train_loss: -304.64407, val_loss: -325.12506, val_recall@20: 0.13899, val_precision@20: 0.04521, val_ndcg@20: 0.0995\n",
      "[Iteration 3600/10000] train_loss: -328.46719, val_loss: -343.72391, val_recall@20: 0.13696, val_precision@20: 0.04476, val_ndcg@20: 0.09844\n",
      "[Iteration 3800/10000] train_loss: -331.31635, val_loss: -360.52005, val_recall@20: 0.13637, val_precision@20: 0.04485, val_ndcg@20: 0.0985\n",
      "[Iteration 4000/10000] train_loss: -334.27853, val_loss: -381.62659, val_recall@20: 0.13706, val_precision@20: 0.04503, val_ndcg@20: 0.09896\n",
      "[Iteration 4200/10000] train_loss: -355.21722, val_loss: -401.28925, val_recall@20: 0.13732, val_precision@20: 0.04503, val_ndcg@20: 0.0993\n",
      "[Iteration 4400/10000] train_loss: -390.37137, val_loss: -413.43268, val_recall@20: 0.13663, val_precision@20: 0.04521, val_ndcg@20: 0.09902\n",
      "[Iteration 4600/10000] train_loss: -383.5015, val_loss: -432.71118, val_recall@20: 0.13643, val_precision@20: 0.0453, val_ndcg@20: 0.09904\n",
      "[Iteration 4800/10000] train_loss: -409.43372, val_loss: -447.84097, val_recall@20: 0.13522, val_precision@20: 0.04485, val_ndcg@20: 0.0987\n",
      "[Iteration 5000/10000] train_loss: -417.47375, val_loss: -459.54251, val_recall@20: 0.1346, val_precision@20: 0.04467, val_ndcg@20: 0.0986\n",
      "[Iteration 5200/10000] train_loss: -414.01917, val_loss: -477.79517, val_recall@20: 0.13765, val_precision@20: 0.04485, val_ndcg@20: 0.09904\n",
      "[Iteration 5400/10000] train_loss: -441.35107, val_loss: -488.06094, val_recall@20: 0.13625, val_precision@20: 0.04485, val_ndcg@20: 0.0989\n",
      "[Iteration 5600/10000] train_loss: -456.25543, val_loss: -503.18008, val_recall@20: 0.13681, val_precision@20: 0.04485, val_ndcg@20: 0.09906\n",
      "[Iteration 5800/10000] train_loss: -459.74384, val_loss: -516.28839, val_recall@20: 0.13683, val_precision@20: 0.04485, val_ndcg@20: 0.09891\n",
      "[Iteration 6000/10000] train_loss: -475.95715, val_loss: -525.98773, val_recall@20: 0.13662, val_precision@20: 0.04512, val_ndcg@20: 0.09896\n",
      "[Iteration 6200/10000] train_loss: -479.33292, val_loss: -541.45886, val_recall@20: 0.13672, val_precision@20: 0.04521, val_ndcg@20: 0.09904\n",
      "[Iteration 6400/10000] train_loss: -531.23273, val_loss: -553.6698, val_recall@20: 0.13679, val_precision@20: 0.0453, val_ndcg@20: 0.09903\n",
      "[Iteration 6600/10000] train_loss: -532.51453, val_loss: -563.37012, val_recall@20: 0.13663, val_precision@20: 0.04521, val_ndcg@20: 0.09907\n",
      "[Iteration 6800/10000] train_loss: -506.53851, val_loss: -573.92828, val_recall@20: 0.13613, val_precision@20: 0.04503, val_ndcg@20: 0.09898\n",
      "[Iteration 7000/10000] train_loss: -521.58588, val_loss: -577.92596, val_recall@20: 0.13624, val_precision@20: 0.04512, val_ndcg@20: 0.09896\n",
      "[Iteration 7200/10000] train_loss: -486.62695, val_loss: -594.64093, val_recall@20: 0.13614, val_precision@20: 0.04503, val_ndcg@20: 0.0989\n",
      "[Iteration 7400/10000] train_loss: -542.84442, val_loss: -598.01154, val_recall@20: 0.13587, val_precision@20: 0.04494, val_ndcg@20: 0.09876\n",
      "[Iteration 7600/10000] train_loss: -548.66064, val_loss: -609.44592, val_recall@20: 0.13607, val_precision@20: 0.04503, val_ndcg@20: 0.09883\n",
      "[Iteration 7800/10000] train_loss: -555.255, val_loss: -614.81683, val_recall@20: 0.13533, val_precision@20: 0.04503, val_ndcg@20: 0.09864\n",
      "[Iteration 8000/10000] train_loss: -545.77673, val_loss: -627.2113, val_recall@20: 0.13607, val_precision@20: 0.04503, val_ndcg@20: 0.09889\n",
      "[Iteration 8200/10000] train_loss: -599.78888, val_loss: -632.948, val_recall@20: 0.13623, val_precision@20: 0.04512, val_ndcg@20: 0.09897\n",
      "[Iteration 8400/10000] train_loss: -588.45782, val_loss: -640.46881, val_recall@20: 0.13612, val_precision@20: 0.04512, val_ndcg@20: 0.09893\n",
      "[Iteration 8600/10000] train_loss: -589.61493, val_loss: -642.78723, val_recall@20: 0.13612, val_precision@20: 0.04512, val_ndcg@20: 0.09887\n",
      "[Iteration 8800/10000] train_loss: -611.54248, val_loss: -647.78638, val_recall@20: 0.13612, val_precision@20: 0.04512, val_ndcg@20: 0.09892\n",
      "[Iteration 9000/10000] train_loss: -606.80115, val_loss: -652.26416, val_recall@20: 0.13516, val_precision@20: 0.04494, val_ndcg@20: 0.09863\n",
      "[Iteration 9200/10000] train_loss: -616.88959, val_loss: -665.85602, val_recall@20: 0.13612, val_precision@20: 0.04512, val_ndcg@20: 0.09908\n",
      "[Iteration 9400/10000] train_loss: -610.6629, val_loss: -668.45209, val_recall@20: 0.13612, val_precision@20: 0.04512, val_ndcg@20: 0.09892\n",
      "[Iteration 9600/10000] train_loss: -573.54987, val_loss: -675.44757, val_recall@20: 0.13612, val_precision@20: 0.04512, val_ndcg@20: 0.09906\n",
      "[Iteration 9800/10000] train_loss: -615.55603, val_loss: -674.63721, val_recall@20: 0.13612, val_precision@20: 0.04512, val_ndcg@20: 0.0991\n",
      "\n"
     ]
    }
   ],
   "source": [
    "N_CLUSTERS = 10\n",
    "\n",
    "# INITIALIZE EMPTY LISTS\n",
    "train_losses = []\n",
    "val_losses = []\n",
    "val_recall_at_ks = []\n",
    "val_precision = []\n",
    "val_ndcg = []\n",
    "\n",
    "# START TRAINING LOOP\n",
    "for iter in tqdm(range(ITERATIONS)):\n",
    "    \n",
    "    # RANDOMLY SAMPLE SET OF CLUSTERS, AGGREGATE TO CONSTRUCT AN INDUCED SUBGRAPH\n",
    "    sampled_clusters = np.random.choice(range(n_clusters), size=N_CLUSTERS, replace=False)\n",
    "    sampled_edge_index = torch.cat([clustered_train_edge_index[cluster] for cluster in sampled_clusters], dim=1)\n",
    "    \n",
    "    # FORWARD PROPAGATION (ON INDUCED SUBGRAPH)\n",
    "    users_emb_final, users_emb_0,  pos_items_emb_final, pos_items_emb_0, neg_items_emb_final, neg_items_emb_0 \\\n",
    "                = get_embs_for_bpr(model, sampled_edge_index)\n",
    "    \n",
    "    # LOSS COMPUTATION\n",
    "    train_loss = bpr_loss(users_emb_final, users_emb_0, \n",
    "                          pos_items_emb_final, pos_items_emb_0, \n",
    "                          neg_items_emb_final, neg_items_emb_0, \n",
    "                          LAMBDA)\n",
    "    \n",
    "    # BACKPROPAGATION AND UPDATE\n",
    "    optimizer.zero_grad()\n",
    "    train_loss.backward()\n",
    "    optimizer.step()\n",
    "\n",
    "    # VALIDATION SET -------------------------------------------\n",
    "    # Perform the evaluation of model on validation set every ITERS_PER_EVAL iterations:\n",
    "    \n",
    "    if iter % ITERS_PER_EVAL == 0:\n",
    "        model.eval()\n",
    "        \n",
    "        # COMPUTE VALIDATION LOSS, RECALL, PRECISION, AND NDCG\n",
    "        with torch.no_grad():\n",
    "            val_loss, recall, precision, ndcg = evaluation(model, \n",
    "                                                           val_edge_index, \n",
    "                                                           [train_edge_index], \n",
    "                                                           K, \n",
    "                                                           LAMBDA\n",
    "                                                          )\n",
    "\n",
    "            print(f\"[Iteration {iter}/{ITERATIONS}] train_loss: {round(train_loss.item(), 5)}, val_loss: {round(val_loss, 5)}, val_recall@{K}: {round(recall, 5)}, val_precision@{K}: {round(precision, 5)}, val_ndcg@{K}: {round(ndcg, 5)}\")\n",
    "\n",
    "            # APPEND LOSSES AND RECALL VALUES TO RESULTS\n",
    "            train_losses.append(train_loss.item())\n",
    "            val_losses.append(val_loss)\n",
    "            val_recall_at_ks.append(round(recall, 5))\n",
    "            val_precision.append(round(precision, 5))\n",
    "            val_ndcg.append(round(ndcg, 5))\n",
    "            \n",
    "        model.train()\n",
    "        \n",
    "    # ---------------------------------------------------------      \n",
    "        \n",
    "    # ADJUSTING LEARNING RATE WITH SCHEDULER\n",
    "    if iter % ITERS_PER_LR_DECAY == 0 and iter != 0:\n",
    "        scheduler.step()"
   ]
  },
  {
   "cell_type": "markdown",
   "id": "593161b4",
   "metadata": {},
   "source": [
    "## Training and Validation Loss Plots (Cluster Results)"
   ]
  },
  {
   "cell_type": "code",
   "execution_count": 44,
   "id": "e4e142ce",
   "metadata": {},
   "outputs": [
    {
     "data": {
      "image/png": "[encoded data removed]",
      "text/plain": [
       "<Figure size 640x480 with 1 Axes>"
      ]
     },
     "metadata": {},
     "output_type": "display_data"
    }
   ],
   "source": [
    "iters = [iter * ITERS_PER_EVAL for iter in range(len(train_losses))]\n",
    "plt.plot(iters, train_losses, label='Train')\n",
    "plt.plot(iters, val_losses, label='Validation')\n",
    "plt.xlabel('Iteration')\n",
    "plt.ylabel('Loss')\n",
    "plt.title('Training and Validation Loss Curves')\n",
    "plt.legend()\n",
    "plt.show()"
   ]
  },
  {
   "cell_type": "markdown",
   "id": "501c65f5",
   "metadata": {},
   "source": [
    "## Recall, Precision and NDCG Plots"
   ]
  },
  {
   "cell_type": "code",
   "execution_count": 45,
   "id": "f425e8ad",
   "metadata": {},
   "outputs": [
    {
     "data": {
      "image/png": "[encoded data removed]",
      "text/plain": [
       "<Figure size 640x480 with 1 Axes>"
      ]
     },
     "metadata": {},
     "output_type": "display_data"
    }
   ],
   "source": [
    "plt.plot(iters, val_recall_at_ks, label='Recall')\n",
    "plt.plot(iters, val_precision, label='Precision')\n",
    "plt.plot(iters, val_ndcg, label='NDCG')\n",
    "plt.xlabel('Iteration')\n",
    "plt.ylabel('Metrics')\n",
    "plt.legend()\n",
    "plt.show()"
   ]
  },
  {
   "cell_type": "markdown",
   "id": "1773d56a",
   "metadata": {},
   "source": [
    "## Evaluation of Results (Cluster Results)"
   ]
  },
  {
   "cell_type": "code",
   "execution_count": 46,
   "id": "6c5169e3",
   "metadata": {},
   "outputs": [
    {
     "name": "stdout",
     "output_type": "stream",
     "text": [
      "[test_loss: -668.14313, test_recall@20: 0.11743, test_precision@20: 0.04493, test_ndcg@20: 0.09374\n"
     ]
    }
   ],
   "source": [
    "model.eval()\n",
    "test_edge_index = test_edge_index.to(device)\n",
    "\n",
    "test_loss, test_recall, test_precision, test_ndcg = evaluation(model, \n",
    "                                                               test_edge_index, \n",
    "                                                               [train_edge_index, val_edge_index], \n",
    "                                                               K, \n",
    "                                                               LAMBDA\n",
    "                                                              )\n",
    "\n",
    "print(f\"[test_loss: {round(test_loss, 5)}, test_recall@{K}: {round(test_recall, 5)}, test_precision@{K}: {round(test_precision, 5)}, test_ndcg@{K}: {round(test_ndcg, 5)}\")"
   ]
  },
  {
   "cell_type": "code",
   "execution_count": null,
   "id": "1cc51f5e",
   "metadata": {},
   "outputs": [],
   "source": []
  }
 ],
 "metadata": {
  "kernelspec": {
   "display_name": "Python 3.9 (pytorch)",
   "language": "python",
   "name": "pytorch"
  },
  "language_info": {
   "codemirror_mode": {
    "name": "ipython",
    "version": 3
   },
   "file_extension": ".py",
   "mimetype": "text/x-python",
   "name": "python",
   "nbconvert_exporter": "python",
   "pygments_lexer": "ipython3",
   "version": "3.9.16"
  }
 },
 "nbformat": 4,
 "nbformat_minor": 5
}
