{
 "cells": [
  {
   "cell_type": "markdown",
   "id": "b90eb3c4",
   "metadata": {},
   "source": [
    "## Initialization"
   ]
  },
  {
   "cell_type": "code",
   "execution_count": 1,
   "id": "7e0e1de2",
   "metadata": {},
   "outputs": [],
   "source": [
    "# Standard library imports\n",
    "import random\n",
    "import time\n",
    "\n",
    "import matplotlib.pyplot as plt\n",
    "import networkx as nx\n",
    "import numpy as np\n",
    "import copy\n",
    "import pandas as pd\n",
    "pd.set_option('display.max_colwidth', None)\n",
    "\n",
    "import torch\n",
    "import torch.nn as nn\n",
    "import torch.nn.functional as F\n",
    "import torch.optim as optim\n",
    "from torch.optim import lr_scheduler\n",
    "from torch import Tensor\n",
    "\n",
    "import torch_geometric\n",
    "from torch_geometric.nn.conv import MessagePassing\n",
    "from torch_geometric.utils import degree, structured_negative_sampling\n",
    "from torch_geometric.data import download_url, extract_zip\n",
    "from torch_geometric.nn.conv.gcn_conv import gcn_norm\n",
    "from torch_sparse import SparseTensor, matmul\n",
    "\n",
    "from tqdm.notebook import tqdm\n",
    "from sklearn import preprocessing\n",
    "from sklearn.model_selection import train_test_split\n",
    "import scipy.sparse as sp"
   ]
  },
  {
   "cell_type": "code",
   "execution_count": 2,
   "id": "9114ff5d",
   "metadata": {},
   "outputs": [
    {
     "data": {
      "text/plain": [
       "'2.2.0'"
      ]
     },
     "execution_count": 2,
     "metadata": {},
     "output_type": "execute_result"
    }
   ],
   "source": [
    "torch_geometric.__version__"
   ]
  },
  {
   "cell_type": "code",
   "execution_count": 3,
   "id": "89cc11e4",
   "metadata": {},
   "outputs": [
    {
     "data": {
      "text/plain": [
       "device(type='cpu')"
      ]
     },
     "execution_count": 3,
     "metadata": {},
     "output_type": "execute_result"
    }
   ],
   "source": [
    "device = torch.device(\"cuda:0\" if torch.cuda.is_available() else \"cpu\")\n",
    "device"
   ]
  },
  {
   "cell_type": "markdown",
   "id": "b6ddf17f",
   "metadata": {},
   "source": [
    "## Loading Dataset and Preprocessing"
   ]
  },
  {
   "cell_type": "code",
   "execution_count": 4,
   "id": "72805393",
   "metadata": {},
   "outputs": [],
   "source": [
    "# Downloading Dataset (MovieLens 100K)\n",
    "# url = 'https://files.grouplens.org/datasets/movielens/ml-latest-small.zip'\n",
    "# extract_zip(download_url(url, '.'), '.')\n",
    "\n",
    "movie_path = './ml-latest-small/movies.csv'\n",
    "rating_path = './ml-latest-small/ratings.csv'\n",
    "user_path = './ml-latest-small/users.csv'"
   ]
  },
  {
   "cell_type": "code",
   "execution_count": 5,
   "id": "8c96257d",
   "metadata": {},
   "outputs": [
    {
     "name": "stdout",
     "output_type": "stream",
     "text": [
      "100836\n"
     ]
    },
    {
     "data": {
      "text/html": [
       "<div>\n",
       "<style scoped>\n",
       "    .dataframe tbody tr th:only-of-type {\n",
       "        vertical-align: middle;\n",
       "    }\n",
       "\n",
       "    .dataframe tbody tr th {\n",
       "        vertical-align: top;\n",
       "    }\n",
       "\n",
       "    .dataframe thead th {\n",
       "        text-align: right;\n",
       "    }\n",
       "</style>\n",
       "<table border=\"1\" class=\"dataframe\">\n",
       "  <thead>\n",
       "    <tr style=\"text-align: right;\">\n",
       "      <th></th>\n",
       "      <th>userId</th>\n",
       "      <th>movieId</th>\n",
       "      <th>rating</th>\n",
       "      <th>timestamp</th>\n",
       "    </tr>\n",
       "  </thead>\n",
       "  <tbody>\n",
       "    <tr>\n",
       "      <th>0</th>\n",
       "      <td>1</td>\n",
       "      <td>1</td>\n",
       "      <td>4.0</td>\n",
       "      <td>964982703</td>\n",
       "    </tr>\n",
       "    <tr>\n",
       "      <th>1</th>\n",
       "      <td>1</td>\n",
       "      <td>3</td>\n",
       "      <td>4.0</td>\n",
       "      <td>964981247</td>\n",
       "    </tr>\n",
       "    <tr>\n",
       "      <th>2</th>\n",
       "      <td>1</td>\n",
       "      <td>6</td>\n",
       "      <td>4.0</td>\n",
       "      <td>964982224</td>\n",
       "    </tr>\n",
       "    <tr>\n",
       "      <th>3</th>\n",
       "      <td>1</td>\n",
       "      <td>47</td>\n",
       "      <td>5.0</td>\n",
       "      <td>964983815</td>\n",
       "    </tr>\n",
       "    <tr>\n",
       "      <th>4</th>\n",
       "      <td>1</td>\n",
       "      <td>50</td>\n",
       "      <td>5.0</td>\n",
       "      <td>964982931</td>\n",
       "    </tr>\n",
       "  </tbody>\n",
       "</table>\n",
       "</div>"
      ],
      "text/plain": [
       "   userId  movieId  rating  timestamp\n",
       "0       1        1     4.0  964982703\n",
       "1       1        3     4.0  964981247\n",
       "2       1        6     4.0  964982224\n",
       "3       1       47     5.0  964983815\n",
       "4       1       50     5.0  964982931"
      ]
     },
     "metadata": {},
     "output_type": "display_data"
    }
   ],
   "source": [
    "rating_df = pd.read_csv(rating_path)\n",
    "print(len(rating_df))\n",
    "display(rating_df.head())"
   ]
  },
  {
   "cell_type": "code",
   "execution_count": 6,
   "id": "2181d2e8",
   "metadata": {},
   "outputs": [
    {
     "name": "stdout",
     "output_type": "stream",
     "text": [
      "Number of Unique Users :  610\n",
      "Number of unique Items :  9724\n"
     ]
    }
   ],
   "source": [
    "num_items = len(rating_df['movieId'].unique())\n",
    "num_users = len(rating_df['userId'].unique())\n",
    "\n",
    "print(\"Number of Unique Users : \", num_users)\n",
    "print(\"Number of unique Items : \", num_items)"
   ]
  },
  {
   "cell_type": "code",
   "execution_count": 7,
   "id": "86649acc",
   "metadata": {},
   "outputs": [
    {
     "name": "stdout",
     "output_type": "stream",
     "text": [
      "193609\n",
      "610\n"
     ]
    }
   ],
   "source": [
    "print(rating_df.movieId.max())\n",
    "print(rating_df.userId.max())"
   ]
  },
  {
   "cell_type": "code",
   "execution_count": 8,
   "id": "fe4a24fb",
   "metadata": {},
   "outputs": [],
   "source": [
    "# Encoding preprocessing to match no. of unique Ids\n",
    "lbl_user = preprocessing.LabelEncoder()\n",
    "lbl_movie = preprocessing.LabelEncoder()\n",
    "rating_df.userId = lbl_user.fit_transform(rating_df.userId.values)\n",
    "rating_df.movieId = lbl_movie.fit_transform(rating_df.movieId.values)"
   ]
  },
  {
   "cell_type": "code",
   "execution_count": 9,
   "id": "e1d23ecc",
   "metadata": {},
   "outputs": [
    {
     "name": "stdout",
     "output_type": "stream",
     "text": [
      "9723\n",
      "609\n"
     ]
    }
   ],
   "source": [
    "print(rating_df.movieId.max())\n",
    "print(rating_df.userId.max())"
   ]
  },
  {
   "cell_type": "code",
   "execution_count": 10,
   "id": "b5ab1f00",
   "metadata": {},
   "outputs": [
    {
     "name": "stdout",
     "output_type": "stream",
     "text": [
      "Rating Distribution\n"
     ]
    },
    {
     "data": {
      "text/plain": [
       "rating\n",
       "0.5     1370\n",
       "1.0     2811\n",
       "1.5     1791\n",
       "2.0     7551\n",
       "2.5     5550\n",
       "3.0    20047\n",
       "3.5    13136\n",
       "4.0    26818\n",
       "4.5     8551\n",
       "5.0    13211\n",
       "Name: rating, dtype: int64"
      ]
     },
     "execution_count": 10,
     "metadata": {},
     "output_type": "execute_result"
    }
   ],
   "source": [
    "# Check distribution of ratings\n",
    "print('Rating Distribution')\n",
    "rating_df.groupby(['rating'])['rating'].count()"
   ]
  },
  {
   "cell_type": "markdown",
   "id": "9694ad06",
   "metadata": {},
   "source": [
    "## Visualize User-Item Interactions in Bipartite Graph"
   ]
  },
  {
   "cell_type": "code",
   "execution_count": 11,
   "id": "15757eff",
   "metadata": {},
   "outputs": [
    {
     "data": {
      "image/png": "[encoded data removed]",
      "text/plain": [
       "<Figure size 432x288 with 1 Axes>"
      ]
     },
     "metadata": {},
     "output_type": "display_data"
    }
   ],
   "source": [
    "# Random subset of 50 users and 50 items\n",
    "users = np.random.choice(rating_df['userId'].unique(), size=25, replace=False)\n",
    "movies = np.random.choice(rating_df['movieId'].unique(), size=25, replace=False)\n",
    "\n",
    "# Filter dataset and count no. of user-item interactions\n",
    "ratings_subset = rating_df.loc[rating_df['userId'].isin(users) & rating_df['movieId'].isin(movies)]\n",
    "item_counts = ratings_subset.groupby('movieId').size()\n",
    "\n",
    "# Create bipartite graph\n",
    "G = nx.Graph()\n",
    "G.add_nodes_from(users, bipartite=0)\n",
    "G.add_nodes_from(movies, bipartite=1)\n",
    "for idx, row in ratings_subset.iterrows():\n",
    "    color = 'r' if item_counts[row['movieId']] > 1 else 'k'\n",
    "    G.add_edge(row['userId'], row['movieId'], color=color)\n",
    "\n",
    "# Draw bipartite graph\n",
    "pos = {node:[0, i] for i, node in enumerate(users)}\n",
    "pos.update({node:[1, i] for i, node in enumerate(movies)})\n",
    "edges = G.edges()\n",
    "colors = [G[u][v]['color'] for u,v in edges]\n",
    "nx.draw(G, pos=pos, with_labels=False, node_size=10, width=0.5, node_color='b', edge_color=colors)\n",
    "\n",
    "plt.show()"
   ]
  },
  {
   "cell_type": "markdown",
   "id": "0aa0add1",
   "metadata": {},
   "source": [
    "## Build Graph in Edge-Index Format"
   ]
  },
  {
   "cell_type": "code",
   "execution_count": 12,
   "id": "6718d1bf",
   "metadata": {},
   "outputs": [
    {
     "name": "stdout",
     "output_type": "stream",
     "text": [
      "tensor([[   0,    0,    0,  ...,  609,  609,  609],\n",
      "        [   0,    2,    5,  ..., 9443, 9444, 9445]])\n",
      "torch.Size([2, 48580])\n"
     ]
    },
    {
     "name": "stderr",
     "output_type": "stream",
     "text": [
      "C:\\Users\\Sddddq\\AppData\\Local\\Temp/ipykernel_13740/161207825.py:14: UserWarning: Creating a tensor from a list of numpy.ndarrays is extremely slow. Please consider converting the list to a single numpy.ndarray with numpy.array() before converting to a tensor. (Triggered internally at  ..\\torch\\csrc\\utils\\tensor_new.cpp:201.)\n",
      "  edge_index = torch.LongTensor(edge_index)\n"
     ]
    }
   ],
   "source": [
    "# Extract user-item interactions\n",
    "rating_threshold = 3.5 # only using high-quality ratings for training\n",
    "rating_mask = rating_df['rating'].values > rating_threshold\n",
    "user_ids = rating_df.loc[rating_mask, 'userId'].values\n",
    "item_ids = rating_df.loc[rating_mask, 'movieId'].values\n",
    "interactions = np.ones_like(user_ids)\n",
    "\n",
    "# Create sparse COO matrix representing user-item interactions\n",
    "coo = sp.coo_matrix((interactions, (user_ids, item_ids)))\n",
    "row, col, data = coo.row, coo.col, coo.data\n",
    "\n",
    "# Edge Index (converted as LongTensor)\n",
    "edge_index =  [row, col]\n",
    "edge_index = torch.LongTensor(edge_index) \n",
    "print(edge_index)\n",
    "print(edge_index.size())"
   ]
  },
  {
   "cell_type": "markdown",
   "id": "e01e69c8",
   "metadata": {},
   "source": [
    "## Training and Validation Split"
   ]
  },
  {
   "cell_type": "code",
   "execution_count": 13,
   "id": "3f2c87c8",
   "metadata": {},
   "outputs": [],
   "source": [
    "num_interactions = edge_index.shape[1]\n",
    "\n",
    "# split the edges of the graph using a 80/10/10 train/validation/test split\n",
    "all_indices = [i for i in range(num_interactions)]\n",
    "\n",
    "train_indices, test_indices = train_test_split(all_indices, \n",
    "                                               test_size=0.2, \n",
    "                                               random_state=1)\n",
    "\n",
    "val_indices, test_indices = train_test_split(test_indices, \n",
    "                                             test_size=0.5, \n",
    "                                             random_state=1)\n",
    "\n",
    "train_edge_index = edge_index[:, train_indices]\n",
    "val_edge_index = edge_index[:, val_indices]\n",
    "test_edge_index = edge_index[:, test_indices]"
   ]
  },
  {
   "cell_type": "code",
   "execution_count": 14,
   "id": "d9bedfa1",
   "metadata": {},
   "outputs": [
    {
     "name": "stdout",
     "output_type": "stream",
     "text": [
      "num_users 610, num_items 9724, num_interactions 48580\n",
      "train_edge_index tensor([[ 605,  110,  442,  ...,   65,  161,  427],\n",
      "        [1110, 9619, 1283,  ..., 4640,  443,  827]])\n",
      "10334\n",
      "torch.Size([609])\n",
      "torch.Size([5676])\n"
     ]
    }
   ],
   "source": [
    "print(f\"num_users {num_users}, num_items {num_items}, num_interactions {num_interactions}\")\n",
    "print(f\"train_edge_index {train_edge_index}\")\n",
    "print((num_users + num_items))\n",
    "print(torch.unique(train_edge_index[0]).size())\n",
    "print(torch.unique(train_edge_index[1]).size())"
   ]
  },
  {
   "cell_type": "code",
   "execution_count": 15,
   "id": "79864e62",
   "metadata": {},
   "outputs": [],
   "source": [
    "def convert_r_mat_edge_index_to_adj_mat_edge_index(input_edge_index):\n",
    "    R = torch.zeros((num_users, num_items))\n",
    "    for i in range(len(input_edge_index[0])):\n",
    "        row_idx = input_edge_index[0][i]\n",
    "        col_idx = input_edge_index[1][i]\n",
    "        R[row_idx][col_idx] = 1\n",
    "\n",
    "    R_transpose = R.T\n",
    "    adj_mat = torch.zeros((num_users + num_items , num_users + num_items))\n",
    "    adj_mat[: num_users, num_users :] = copy.deepcopy(R)\n",
    "    adj_mat[num_users :, : num_users] = copy.deepcopy(R_transpose)\n",
    "    adj_mat_coo = torch.nonzero(adj_mat).T\n",
    "    return adj_mat_coo"
   ]
  },
  {
   "cell_type": "code",
   "execution_count": 16,
   "id": "b6d88355",
   "metadata": {},
   "outputs": [],
   "source": [
    "def convert_adj_mat_edge_index_to_r_mat_edge_index(input_edge_index):\n",
    "    sparse_input_edge_index = SparseTensor(row=input_edge_index[0], \n",
    "                                           col=input_edge_index[1], \n",
    "                                           sparse_sizes=((num_users + num_items), num_users + num_items))\n",
    "    adj_mat = sparse_input_edge_index.to_dense()\n",
    "    interact_mat = adj_mat[: num_users, num_users :]\n",
    "    interact_mat = sp.coo_matrix(interact_mat)\n",
    "    r_mat_edge_index = torch.tensor(np.vstack((interact_mat.row, interact_mat.col)), dtype=torch.int64)\n",
    "    return r_mat_edge_index"
   ]
  },
  {
   "cell_type": "code",
   "execution_count": 17,
   "id": "5b81725c",
   "metadata": {},
   "outputs": [],
   "source": [
    "# convert from r_mat (interaction matrix) edge index to adjescency matrix's edge index \n",
    "# so we can feed it to model\n",
    "train_edge_index = convert_r_mat_edge_index_to_adj_mat_edge_index(train_edge_index)\n",
    "val_edge_index = convert_r_mat_edge_index_to_adj_mat_edge_index(val_edge_index)\n",
    "test_edge_index = convert_r_mat_edge_index_to_adj_mat_edge_index(test_edge_index)"
   ]
  },
  {
   "cell_type": "code",
   "execution_count": 18,
   "id": "b8dea1e3",
   "metadata": {},
   "outputs": [
    {
     "name": "stdout",
     "output_type": "stream",
     "text": [
      "tensor([[    0,     0,     0,  ..., 10326, 10327, 10333],\n",
      "        [  610,   612,   653,  ...,   183,   183,   330]])\n",
      "torch.Size([2, 77728])\n",
      "tensor([[    0,     0,     0,  ..., 10226, 10236, 10240],\n",
      "        [  615,   794,  2010,  ...,   317,   204,   413]])\n",
      "torch.Size([2, 9716])\n",
      "tensor([[    0,     0,     0,  ..., 10301, 10302, 10329],\n",
      "        [  811,  1086,  1095,  ...,   585,   585,   183]])\n",
      "torch.Size([2, 9716])\n"
     ]
    }
   ],
   "source": [
    "print(train_edge_index)\n",
    "print(train_edge_index.size())\n",
    "print(val_edge_index)\n",
    "print(val_edge_index.size())\n",
    "print(test_edge_index)\n",
    "print(test_edge_index.size())"
   ]
  },
  {
   "cell_type": "markdown",
   "id": "8e4c92a7",
   "metadata": {},
   "source": [
    "## LightGCN Model Implementation\n",
    "\n",
    "#### LightGCN Propagation Rule:\n",
    "\n",
    "\\begin{equation}\n",
    "e_u^{(k+1)} = \\sum_{i \\in N_u} \\frac{1}{\\sqrt{|N_u|}\\sqrt{|N_i|}} e_i^{(k)} \\quad e_i^{(k+1)} = \\sum_{u \\in N_i} \\frac{1}{\\sqrt{|N_i|}\\sqrt{|N_u|}} e_u^{(k)}\n",
    "\\end{equation}\n",
    "\n",
    "$N_u$: the set of all neighbors of user $u$ (items liked by $u$)\n",
    "\n",
    "$N_i$: the set of all neighbors of item $i$ (users who liked $i$)\n",
    "\n",
    "$e_u^{(k)}$ : k-th layer user embedding\n",
    "\n",
    "$e_i^{(k)}$ : k-th layer item embedding\n",
    "\n",
    "\n",
    "#### Layer Combination and Model Prediction\n",
    "The only trainable parameters of LightGCN are the 0-th layer embeddings $e_u^{(0)}$ and $e_i^{(0)}$ for each user and item. We combine the embeddings obtained at each layer of propagation to form the final embeddings for all user and item, $e_u$ and $e_i$ via the follwing equation.\n",
    "\n",
    "\n",
    "\\begin{equation}\n",
    "e_u = \\sum_{k = 0}^K \\alpha_k e_u^{(k)} \\quad e_i = \\sum_{k = 0}^K \\alpha_k e_i^{(k)}\n",
    "\\end{equation}\n",
    "\n",
    "$\\alpha_k$ : hyperparameter which weights the contribution of the k-th layer embedding to the final embedding\n",
    "\n",
    "#### Prediction: Taking inner product of final embeddings\n",
    "\n",
    "\\begin{equation}\n",
    "\\hat{y}_{ui} = e_u^Te_i\n",
    "\\end{equation}\n",
    "\n",
    "#### Propagation Rule in Matrix Form:\n",
    "\n",
    "\\begin{equation}\n",
    "E^{(K)} = \\alpha_0 E^{(0)} + \\alpha_1 \\tilde{A}^1 E^{(0)} + \\alpha_2 \\tilde{A}^2 E^{(0)} + \\cdot \\cdot \\cdot + \\alpha_K \\tilde{A}^K \\tilde{A} E^{(0)}\n",
    "\\end{equation}\n",
    "\n",
    "$E^{(0)} \\in \\mathcal{R}^{(M + N)} \\times T$ : stacked initial item and user embeddings where $M$, $N$, and $T$ denote the number of users, number of items, and the embedding dimension respectively.\n",
    "\n",
    "$\\tilde{A} = D^{-\\frac{1}{2}}AD^{-\\frac{1}{2}}$ : symmetrically normalized adjacency matrix\n"
   ]
  },
  {
   "cell_type": "code",
   "execution_count": 19,
   "id": "67364ac1",
   "metadata": {},
   "outputs": [],
   "source": [
    "# defines LightGCN model \n",
    "class LightGCN(MessagePassing):\n",
    "\n",
    "    def __init__(self, num_users, num_items, embedding_dim=64, K=3, add_self_loops=False):\n",
    "        \"\"\"Initializes LightGCN Model\n",
    "\n",
    "        Args:\n",
    "            num_users (int): Number of users\n",
    "            num_items (int): Number of items\n",
    "            embedding_dim (int, optional): Dimensionality of embeddings. Defaults to 8.\n",
    "            K (int, optional): Number of message passing layers. Defaults to 3.\n",
    "            add_self_loops (bool, optional): Whether to add self loops for message passing. Defaults to False.\n",
    "        \"\"\"\n",
    "        super().__init__()\n",
    "        self.num_users = num_users\n",
    "        self.num_items = num_items\n",
    "        self.embedding_dim = embedding_dim\n",
    "        self.K = K\n",
    "        self.add_self_loops = add_self_loops\n",
    "\n",
    "        # Define user and item embeddings\n",
    "        self.users_emb = nn.Embedding(num_embeddings=self.num_users, embedding_dim=self.embedding_dim) # e_u^0        \n",
    "        self.items_emb = nn.Embedding(num_embeddings=self.num_items, embedding_dim=self.embedding_dim) # e_i^0\n",
    "\n",
    "        # Initialize user and item embeddings with normal distribution\n",
    "        nn.init.normal_(self.users_emb.weight, std=0.1)\n",
    "        nn.init.normal_(self.items_emb.weight, std=0.1)\n",
    "        \n",
    "    # ---------------------------------------------------#\n",
    "        \n",
    "    def forward(self, edge_index: Tensor):\n",
    "        \"\"\"Forward propagation of LightGCN Model.\n",
    "        \n",
    "            Args: edge_index (SparseTensor): adjacency matrix\n",
    "            Returns: tuple (Tensor): e_u_k, e_u_0, e_i_k, e_i_0\n",
    "        \"\"\"\n",
    "        \n",
    "        # compute \\tilde{A}: symmetrically normalized adjacency matrix\n",
    "        # where \\tilde_A = D^(-1/2) * A * D^(-1/2)\n",
    "        \n",
    "        edge_index_norm = gcn_norm(edge_index=edge_index, \n",
    "                                   add_self_loops=self.add_self_loops)\n",
    "\n",
    "        # Concatenate user-item embeddings (obtain initial embedding matrix E^0)\n",
    "        emb_0 = torch.cat([self.users_emb.weight, self.items_emb.weight])\n",
    "        embs = [emb_0] # init list of embeddings (capture group for all embedding outputs)\n",
    "        emb_k = emb_0\n",
    "\n",
    "        # Performing Message Propagation over K-Layers\n",
    "        for i in range(self.K): # self.propagate inherited from PyG `MessagePassing` module\n",
    "            emb_k = self.propagate(edge_index=edge_index_norm[0], x=emb_k, norm=edge_index_norm[1])\n",
    "            embs.append(emb_k)\n",
    "        \n",
    "        # Compute final embeddings by taking the average of all the intermediate embeddings.\n",
    "        embs = torch.stack(embs, dim=1)\n",
    "        emb_final = torch.mean(embs, dim=1) # E^K\n",
    "        users_emb_final, items_emb_final = torch.split(emb_final, [self.num_users, self.num_items]) # split into e_u^K and e_i^K\n",
    "\n",
    "        # Return Output: e_u^K, e_u^0, e_i^K, e_i^0\n",
    "        return users_emb_final, self.users_emb.weight, items_emb_final, self.items_emb.weight\n",
    "    \n",
    "    # ---------------------------------------------------#\n",
    "    \n",
    "    def message(self, x_j, norm): # Normalize neighboring node features \n",
    "        return norm.view(-1, 1) * x_j    "
   ]
  },
  {
   "cell_type": "code",
   "execution_count": 21,
   "id": "abcfc45d",
   "metadata": {},
   "outputs": [],
   "source": [
    "# INITIALIZE MODEL\n",
    "layers = 3\n",
    "model = LightGCN(num_users=num_users, num_items=num_items, K=layers)"
   ]
  },
  {
   "cell_type": "markdown",
   "id": "637a5ce2",
   "metadata": {},
   "source": [
    "## Minibatch Sampling"
   ]
  },
  {
   "cell_type": "code",
   "execution_count": 20,
   "id": "60aeea33",
   "metadata": {},
   "outputs": [],
   "source": [
    "# Performs minibatch sampling on a set of edge indices for a graph dataset.\n",
    "def sample_mini_batch(batch_size, edge_index):\n",
    "    edges = structured_negative_sampling(edge_index)\n",
    "    edges = torch.stack(edges, dim=0)\n",
    "    indices = random.choices(\n",
    "        [i for i in range(edges[0].shape[0])], k=batch_size)\n",
    "    batch = edges[:, indices]\n",
    "    user_indices, pos_item_indices, neg_item_indices = batch[0], batch[1], batch[2]\n",
    "    return user_indices, pos_item_indices, neg_item_indices"
   ]
  },
  {
   "cell_type": "markdown",
   "id": "31875100",
   "metadata": {},
   "source": [
    "## BPR Loss Function"
   ]
  },
  {
   "cell_type": "markdown",
   "id": "69cb4a27",
   "metadata": {},
   "source": [
    "We employ the Bayesian Personalized Ranking (BPR) loss, a pairwise objective which encourages the predictions of positive samples to be higher than negative samples for each user.\n",
    "\n",
    "\\begin{equation}\n",
    "L_{BPR} = -\\sum_{u = 1}^M \\sum_{i \\in N_u} \\sum_{j \\notin N_u} \\ln{\\sigma(\\hat{y}_{ui} - \\hat{y}_{uj})} + \\lambda ||E^{(0)}||^2 \n",
    "\\end{equation}\n",
    "\n",
    "$\\hat{y}_{u}$: predicted score of a positive sample\n",
    "\n",
    "$\\hat{y}_{uj}$: predicted score of a negative sample\n",
    "\n",
    "$\\lambda$: hyperparameter which controls the L2 regularization strength"
   ]
  },
  {
   "cell_type": "code",
   "execution_count": 58,
   "id": "d97e75f9",
   "metadata": {},
   "outputs": [],
   "source": [
    "def bpr_loss(users_emb_final, users_emb_0, pos_items_emb_final, \n",
    "             pos_items_emb_0, neg_items_emb_final, neg_items_emb_0, lambda_val, if_bpr_user=True):\n",
    "    \"\"\"Bayesian Personalized Ranking Loss as described in https://arxiv.org/abs/1205.2618\n",
    "\n",
    "    Args:\n",
    "        users_emb_final (torch.Tensor): Embeddings of users after K message-passing layers (e_u_k)\n",
    "        users_emb_0 (torch.Tensor): Initial embeddings of users (e_u_0)\n",
    "        pos_items_emb_final (torch.Tensor): Embeddings of positive items after K message-passing layers (e_i_k)\n",
    "        pos_items_emb_0 (torch.Tensor): Initial embeddings of positive items (e_i_0)\n",
    "        neg_items_emb_final (torch.Tensor): Embeddings of negative items after K message-passing layers (e_i_k)\n",
    "        neg_items_emb_0 (torch.Tensor): Initial embeddings of negative items (e_i_0)\n",
    "        lambda_val (float): Regularization parameter for L2 loss.\n",
    "\n",
    "    Returns:\n",
    "        torch.Tensor: scalar bpr loss value\n",
    "    \"\"\"\n",
    "    if if_bpr_user:\n",
    "        reg_loss = lambda_val * (users_emb_0.norm(2).pow(2) +\n",
    "                                 pos_items_emb_0.norm(2).pow(2) +\n",
    "                                 neg_items_emb_0.norm(2).pow(2)) # L2 loss\n",
    "    else:\n",
    "        reg_loss = lambda_val * (pos_items_emb_0.norm(2).pow(2) +\n",
    "                                 neg_items_emb_0.norm(2).pow(2))\n",
    "\n",
    "    pos_scores = torch.mul(users_emb_final, pos_items_emb_final)\n",
    "    pos_scores = torch.sum(pos_scores, dim=-1) # predicted scores of positive samples\n",
    "    neg_scores = torch.mul(users_emb_final, neg_items_emb_final)\n",
    "    neg_scores = torch.sum(neg_scores, dim=-1) # predicted scores of negative samples\n",
    "\n",
    "\n",
    "    bpr_loss = -torch.mean(torch.nn.functional.softplus(pos_scores - neg_scores))\n",
    "    loss = bpr_loss + reg_loss\n",
    "    \n",
    "    return loss"
   ]
  },
  {
   "cell_type": "markdown",
   "id": "67b19391",
   "metadata": {},
   "source": [
    "## Evaluation Metrics"
   ]
  },
  {
   "cell_type": "code",
   "execution_count": 23,
   "id": "6568d7bb",
   "metadata": {},
   "outputs": [],
   "source": [
    "def get_user_positive_items(edge_index):\n",
    "    \"\"\"\n",
    "    Generates dictionary of positive items for each user\n",
    "\n",
    "    Args:\n",
    "        edge_index (torch.Tensor): 2 by N list of edges \n",
    "\n",
    "    Returns:\n",
    "        dict: user -> list of positive items for each \n",
    "    \"\"\"\n",
    "    \n",
    "    # key: user_id, val: item_id list\n",
    "    user_pos_items = {}\n",
    "    \n",
    "    for i in range(edge_index.shape[1]):\n",
    "        user = edge_index[0][i].item()\n",
    "        item = edge_index[1][i].item()\n",
    "        \n",
    "        if user not in user_pos_items:\n",
    "            user_pos_items[user] = []\n",
    "        \n",
    "        user_pos_items[user].append(item)\n",
    "        \n",
    "    return user_pos_items"
   ]
  },
  {
   "cell_type": "code",
   "execution_count": 24,
   "id": "c06ec775",
   "metadata": {},
   "outputs": [],
   "source": [
    "# computes recall@K and precision@K\n",
    "def RecallPrecision_ATk(groundTruth, r, k):\n",
    "    \"\"\"Computers recall @ k and precision @ k\n",
    "\n",
    "    Args:\n",
    "        groundTruth (list[list[long]]): list of lists of item_ids. Cntaining highly rated items of each user. \n",
    "                            In other words, this is the list of true_relevant_items for each user\n",
    "                            \n",
    "        r (list[list[boolean]]): list of lists indicating whether each top k item recommended to each user\n",
    "                            is a top k ground truth (true relevant) item or not\n",
    "                            \n",
    "        k (int): determines the top k items to compute precision and recall on\n",
    "\n",
    "    Returns:\n",
    "        tuple: recall @ k, precision @ k\n",
    "    \"\"\"\n",
    "    \n",
    "    # number of correctly predicted items per user\n",
    "    # -1 here means I want to sum at the inner most dimension\n",
    "    num_correct_pred = torch.sum(r, dim=-1)  \n",
    "    \n",
    "    # number of items liked by each user in the test set\n",
    "    user_num_liked = torch.Tensor([len(groundTruth[i]) for i in range(len(groundTruth))])\n",
    "    \n",
    "    recall = torch.mean(num_correct_pred / user_num_liked)\n",
    "    precision = torch.mean(num_correct_pred) / k\n",
    "    return recall.item(), precision.item()"
   ]
  },
  {
   "cell_type": "code",
   "execution_count": 25,
   "id": "edd35abe",
   "metadata": {},
   "outputs": [],
   "source": [
    "# computes NDCG@K\n",
    "def NDCGatK_r(groundTruth, r, k):\n",
    "    \"\"\"Computes Normalized Discounted Cumulative Gain (NDCG) @ k\n",
    "\n",
    "    Args:\n",
    "        groundTruth (list): list of lists containing highly rated items of each user\n",
    "        r (list): list of lists indicating whether each top k item recommended to each user\n",
    "            is a top k ground truth item or not\n",
    "        k (int): determines the top k items to compute ndcg on\n",
    "\n",
    "    Returns:\n",
    "        float: ndcg @ k\n",
    "    \"\"\"\n",
    "    assert len(r) == len(groundTruth)\n",
    "\n",
    "    test_matrix = torch.zeros((len(r), k))\n",
    "\n",
    "    for i, items in enumerate(groundTruth):\n",
    "        length = min(len(items), k)\n",
    "        test_matrix[i, :length] = 1\n",
    "    max_r = test_matrix\n",
    "    idcg = torch.sum(max_r * 1. / torch.log2(torch.arange(2, k + 2)), axis=1)\n",
    "    dcg = r * (1. / torch.log2(torch.arange(2, k + 2)))\n",
    "    dcg = torch.sum(dcg, axis=1)\n",
    "    idcg[idcg == 0.] = 1.\n",
    "    ndcg = dcg / idcg\n",
    "    ndcg[torch.isnan(ndcg)] = 0.\n",
    "    return torch.mean(ndcg).item()"
   ]
  },
  {
   "cell_type": "code",
   "execution_count": 26,
   "id": "1970e789",
   "metadata": {},
   "outputs": [],
   "source": [
    "def get_metrics(model, \n",
    "                input_edge_index, # adj_mat based edge index\n",
    "                input_exclude_edge_indices, # adj_mat based exclude edge index\n",
    "                k):\n",
    "    \"\"\"Computes the evaluation metrics: recall, precision, and ndcg @ k\n",
    "\n",
    "    Args:\n",
    "        model (LighGCN): lightgcn model\n",
    "        \n",
    "        edge_index (torch.Tensor): 2 by N list of edges for split to evaluate\n",
    "        \n",
    "        exclude_edge_indices ([type]): 2 by N list of edges for split to discount from evaluation\n",
    "        \n",
    "        k (int): determines the top k items to compute metrics on\n",
    "\n",
    "    Returns:\n",
    "        tuple: recall @ k, precision @ k, ndcg @ k\n",
    "    \"\"\"\n",
    "    # get the embedding tensor at layer 0 after training\n",
    "    try:\n",
    "        user_embedding = model.users_emb.weight\n",
    "    except:\n",
    "        user_embedding = model.users_emb\n",
    "    item_embedding = model.items_emb.weight\n",
    "    \n",
    "\n",
    "    # convert adj_mat based edge index to r_mat based edge index so we have have \n",
    "    # the first list being user_ids and second list being item_ids for the edge index \n",
    "    edge_index = convert_adj_mat_edge_index_to_r_mat_edge_index(input_edge_index)\n",
    "\n",
    "    # This is to exclude the edges we have seen before in our predicted interaction matrix (r_mat_rating)\n",
    "    # E.g: for validation set, we want want to exclude all the edges in training set\n",
    "    exclude_edge_indices = [convert_adj_mat_edge_index_to_r_mat_edge_index(exclude_edge_index) \\\n",
    "                                      for exclude_edge_index in input_exclude_edge_indices]\n",
    "\n",
    "     \n",
    "\n",
    "    # Generate predicted interaction matrix (r_mat_rating)    \n",
    "    # (num_users x 64) dot_product (num_item x 64).T \n",
    "    r_mat_rating = torch.matmul(user_embedding, item_embedding.T)\n",
    "    \n",
    "    # shape: num_users x num_item\n",
    "    rating = r_mat_rating\n",
    "   \n",
    "    for exclude_edge_index in exclude_edge_indices:\n",
    "        # gets all the positive items for each user from the edge index\n",
    "        # it's a dict: user -> positive item list\n",
    "        user_pos_items = get_user_positive_items(exclude_edge_index)\n",
    "        \n",
    "        # get coordinates of all edges to exclude\n",
    "        exclude_users = []\n",
    "        exclude_items = []\n",
    "        for user, items in user_pos_items.items():\n",
    "            # [user] * len(item) can give us [user1, user1, user1...] with len of len(item)\n",
    "            # this makes easier to do the masking below\n",
    "            exclude_users.extend([user] * len(items))\n",
    "            exclude_items.extend(items)\n",
    "   \n",
    "        # set the excluded entry in the rat_mat_rating matrix to a very small number\n",
    "        rating[exclude_users, exclude_items] = -(1 << 10) \n",
    "\n",
    "    # get the top k recommended items for each user\n",
    "    _, top_K_items = torch.topk(rating, k=k)\n",
    "\n",
    "    # get all unique users in evaluated split\n",
    "    users = edge_index[0].unique()\n",
    "\n",
    "    # dict of user -> pos_item list\n",
    "    test_user_pos_items = get_user_positive_items(edge_index)\n",
    "\n",
    "    # convert test user pos items dictionary into a list of lists\n",
    "    test_user_pos_items_list = [test_user_pos_items[user.item()] for user in users]\n",
    "\n",
    "\n",
    "    # r here is \"pred_relevant_items ∩ actually_relevant_items\" list for each user\n",
    "    r = []\n",
    "    for user in users:\n",
    "        user_true_relevant_item = test_user_pos_items[user.item()]\n",
    "        # list of Booleans to store whether or not a given item in the top_K_items for a given user \n",
    "        # is also present in user_true_relevant_item.\n",
    "        # this is later on used to compute n_rel_and_rec_k\n",
    "        label = list(map(lambda x: x in user_true_relevant_item, top_K_items[user]))\n",
    "        r.append(label)\n",
    "        \n",
    "    r = torch.Tensor(np.array(r).astype('float'))\n",
    "\n",
    "    recall, precision = RecallPrecision_ATk(test_user_pos_items_list, r, k)\n",
    "    ndcg = NDCGatK_r(test_user_pos_items_list, r, k)\n",
    "\n",
    "    return recall, precision, ndcg"
   ]
  },
  {
   "cell_type": "code",
   "execution_count": 27,
   "id": "bb5ff99c",
   "metadata": {},
   "outputs": [],
   "source": [
    "# wrapper function to evaluate model\n",
    "def evaluation(model, \n",
    "               edge_index, # adj_mat based edge index\n",
    "               exclude_edge_indices,  # adj_mat based exclude edge index\n",
    "               k, \n",
    "               lambda_val\n",
    "              ):\n",
    "    \"\"\"Evaluates model loss and metrics including recall, precision, ndcg @ k\n",
    "\n",
    "    Args:\n",
    "        model (LighGCN): lightgcn model\n",
    "        edge_index (torch.Tensor): 2 by N list of edges for split to evaluate\n",
    "        sparse_edge_index (sparseTensor): sparse adjacency matrix for split to evaluate\n",
    "        exclude_edge_indices ([type]): 2 by N list of edges for split to discount from evaluation\n",
    "        k (int): determines the top k items to compute metrics on\n",
    "        lambda_val (float): determines lambda for bpr loss\n",
    "\n",
    "    Returns:\n",
    "        tuple: bpr loss, recall @ k, precision @ k, ndcg @ k\n",
    "    \"\"\"\n",
    "    # get embeddings\n",
    "    users_emb_final, users_emb_0, items_emb_final, items_emb_0 = model.forward(edge_index)\n",
    "    \n",
    "    r_mat_edge_index = convert_adj_mat_edge_index_to_r_mat_edge_index(edge_index)\n",
    "    \n",
    "    edges = structured_negative_sampling(r_mat_edge_index, contains_neg_self_loops=False)\n",
    "    \n",
    "    user_indices, pos_item_indices, neg_item_indices = edges[0], edges[1], edges[2]\n",
    "    \n",
    "    users_emb_final, users_emb_0 = users_emb_final[user_indices], users_emb_0[user_indices]\n",
    "    \n",
    "    pos_items_emb_final, pos_items_emb_0 = items_emb_final[pos_item_indices], items_emb_0[pos_item_indices]\n",
    "    \n",
    "    neg_items_emb_final, neg_items_emb_0 = items_emb_final[neg_item_indices], items_emb_0[neg_item_indices]\n",
    "\n",
    "    loss = bpr_loss(users_emb_final, \n",
    "                    users_emb_0, \n",
    "                    pos_items_emb_final, \n",
    "                    pos_items_emb_0,\n",
    "                    neg_items_emb_final, \n",
    "                    neg_items_emb_0, \n",
    "                    lambda_val).item()\n",
    "\n",
    "\n",
    "    recall, precision, ndcg = get_metrics(model, \n",
    "                                          edge_index, \n",
    "                                          exclude_edge_indices, \n",
    "                                          k)\n",
    "\n",
    "    return loss, recall, precision, ndcg"
   ]
  },
  {
   "cell_type": "markdown",
   "id": "b04b5a30",
   "metadata": {},
   "source": [
    "## Setting up for Model Training"
   ]
  },
  {
   "cell_type": "code",
   "execution_count": 28,
   "id": "80237fb4",
   "metadata": {},
   "outputs": [],
   "source": [
    "ITERATIONS = 1000\n",
    "EPOCHS = 10\n",
    "BATCH_SIZE = 1024\n",
    "LR = 1e-3\n",
    "ITERS_PER_EVAL = 20\n",
    "ITERS_PER_LR_DECAY = 20\n",
    "K = 20\n",
    "LAMBDA = 1e-6"
   ]
  },
  {
   "cell_type": "code",
   "execution_count": 29,
   "id": "bd08b3e7",
   "metadata": {},
   "outputs": [],
   "source": [
    "model = model.to(device)\n",
    "model.train()\n",
    "\n",
    "optimizer = optim.Adam(model.parameters(), lr=LR)\n",
    "scheduler = optim.lr_scheduler.ExponentialLR(optimizer, gamma=0.95)\n",
    "\n",
    "edge_index = edge_index.to(device)\n",
    "train_edge_index = train_edge_index.to(device)\n",
    "val_edge_index = val_edge_index.to(device)"
   ]
  },
  {
   "cell_type": "code",
   "execution_count": 30,
   "id": "cf5f19b4",
   "metadata": {},
   "outputs": [],
   "source": [
    "def get_embs_for_bpr(model, input_edge_index):\n",
    "    users_emb_final, users_emb_0, items_emb_final, items_emb_0 = model.forward(input_edge_index)\n",
    "    \n",
    "\n",
    "    edge_index_to_use = convert_adj_mat_edge_index_to_r_mat_edge_index(input_edge_index)\n",
    "    \n",
    "    # mini batching for eval and calculate loss \n",
    "    user_indices, pos_item_indices, neg_item_indices = sample_mini_batch(BATCH_SIZE, edge_index_to_use)\n",
    "    \n",
    "    # This is to push tensor to device so if we are using GPU\n",
    "    user_indices, pos_item_indices, neg_item_indices = user_indices.to(device), pos_item_indices.to(device), neg_item_indices.to(device)\n",
    "    \n",
    " \n",
    "    # we need layer0 embeddings and the final embeddings (computed from 0...K layer) for BPR loss computing\n",
    "    users_emb_final, users_emb_0 = users_emb_final[user_indices], users_emb_0[user_indices]\n",
    "    pos_items_emb_final, pos_items_emb_0 = items_emb_final[pos_item_indices], items_emb_0[pos_item_indices]\n",
    "    neg_items_emb_final, neg_items_emb_0 = items_emb_final[neg_item_indices], items_emb_0[neg_item_indices]\n",
    "   \n",
    "    return users_emb_final, users_emb_0, pos_items_emb_final, pos_items_emb_0, neg_items_emb_final, neg_items_emb_0"
   ]
  },
  {
   "cell_type": "markdown",
   "id": "5d385d8f",
   "metadata": {},
   "source": [
    "## Model Training"
   ]
  },
  {
   "cell_type": "code",
   "execution_count": 31,
   "id": "fbc10e60",
   "metadata": {},
   "outputs": [
    {
     "data": {
      "application/vnd.jupyter.widget-view+json": {
       "model_id": "f14b94444315421792f259025f4a6e19",
       "version_major": 2,
       "version_minor": 0
      },
      "text/plain": [
       "  0%|          | 0/1000 [00:00<?, ?it/s]"
      ]
     },
     "metadata": {},
     "output_type": "display_data"
    },
    {
     "name": "stdout",
     "output_type": "stream",
     "text": [
      "[Iteration 0/1000] train_loss: -0.69285, val_loss: -0.6993, val_recall@20: 0.00172, val_precision@20: 0.00118, val_ndcg@20: 0.00197\n",
      "[Iteration 20/1000] train_loss: -0.69759, val_loss: -0.70281, val_recall@20: 0.0016, val_precision@20: 0.00108, val_ndcg@20: 0.0019\n",
      "[Iteration 40/1000] train_loss: -0.71858, val_loss: -0.72014, val_recall@20: 0.00338, val_precision@20: 0.00199, val_ndcg@20: 0.00369\n",
      "[Iteration 60/1000] train_loss: -0.78382, val_loss: -0.7703, val_recall@20: 0.00764, val_precision@20: 0.0047, val_ndcg@20: 0.00729\n",
      "[Iteration 80/1000] train_loss: -0.94107, val_loss: -0.87272, val_recall@20: 0.01562, val_precision@20: 0.0075, val_ndcg@20: 0.0118\n",
      "[Iteration 100/1000] train_loss: -1.20602, val_loss: -1.05185, val_recall@20: 0.02814, val_precision@20: 0.01067, val_ndcg@20: 0.01778\n",
      "[Iteration 120/1000] train_loss: -1.61024, val_loss: -1.32104, val_recall@20: 0.03506, val_precision@20: 0.0123, val_ndcg@20: 0.02276\n",
      "[Iteration 140/1000] train_loss: -2.06375, val_loss: -1.6793, val_recall@20: 0.03908, val_precision@20: 0.01374, val_ndcg@20: 0.02541\n",
      "[Iteration 160/1000] train_loss: -2.70323, val_loss: -2.10393, val_recall@20: 0.04542, val_precision@20: 0.01618, val_ndcg@20: 0.02821\n",
      "[Iteration 180/1000] train_loss: -3.31689, val_loss: -2.57877, val_recall@20: 0.05045, val_precision@20: 0.01745, val_ndcg@20: 0.03162\n",
      "[Iteration 200/1000] train_loss: -4.18276, val_loss: -3.11464, val_recall@20: 0.05187, val_precision@20: 0.01817, val_ndcg@20: 0.03354\n",
      "[Iteration 220/1000] train_loss: -4.82959, val_loss: -3.60377, val_recall@20: 0.05664, val_precision@20: 0.02007, val_ndcg@20: 0.03631\n",
      "[Iteration 240/1000] train_loss: -5.52242, val_loss: -4.13168, val_recall@20: 0.05939, val_precision@20: 0.02052, val_ndcg@20: 0.03758\n",
      "[Iteration 260/1000] train_loss: -6.47988, val_loss: -4.71106, val_recall@20: 0.06259, val_precision@20: 0.02061, val_ndcg@20: 0.03822\n",
      "[Iteration 280/1000] train_loss: -7.20225, val_loss: -5.21501, val_recall@20: 0.0644, val_precision@20: 0.02107, val_ndcg@20: 0.03863\n",
      "[Iteration 300/1000] train_loss: -8.19009, val_loss: -5.77698, val_recall@20: 0.06489, val_precision@20: 0.02107, val_ndcg@20: 0.03875\n",
      "[Iteration 320/1000] train_loss: -8.72972, val_loss: -6.24977, val_recall@20: 0.06485, val_precision@20: 0.02107, val_ndcg@20: 0.03905\n",
      "[Iteration 340/1000] train_loss: -9.10067, val_loss: -6.76429, val_recall@20: 0.06574, val_precision@20: 0.0217, val_ndcg@20: 0.04006\n",
      "[Iteration 360/1000] train_loss: -10.17143, val_loss: -7.2069, val_recall@20: 0.07316, val_precision@20: 0.02324, val_ndcg@20: 0.04276\n",
      "[Iteration 380/1000] train_loss: -10.90392, val_loss: -7.78962, val_recall@20: 0.07435, val_precision@20: 0.02378, val_ndcg@20: 0.0433\n",
      "[Iteration 400/1000] train_loss: -11.81583, val_loss: -8.1937, val_recall@20: 0.07486, val_precision@20: 0.02414, val_ndcg@20: 0.0438\n",
      "[Iteration 420/1000] train_loss: -11.48478, val_loss: -8.75512, val_recall@20: 0.07502, val_precision@20: 0.02441, val_ndcg@20: 0.04434\n",
      "[Iteration 440/1000] train_loss: -13.05083, val_loss: -9.08158, val_recall@20: 0.07595, val_precision@20: 0.02441, val_ndcg@20: 0.04474\n",
      "[Iteration 460/1000] train_loss: -13.09842, val_loss: -9.56192, val_recall@20: 0.07699, val_precision@20: 0.02477, val_ndcg@20: 0.04577\n",
      "[Iteration 480/1000] train_loss: -13.19275, val_loss: -10.0611, val_recall@20: 0.07692, val_precision@20: 0.02523, val_ndcg@20: 0.0463\n",
      "[Iteration 500/1000] train_loss: -13.97116, val_loss: -10.30761, val_recall@20: 0.08035, val_precision@20: 0.02631, val_ndcg@20: 0.04783\n",
      "[Iteration 520/1000] train_loss: -14.13554, val_loss: -10.70274, val_recall@20: 0.08047, val_precision@20: 0.02622, val_ndcg@20: 0.04756\n",
      "[Iteration 540/1000] train_loss: -15.38732, val_loss: -11.10998, val_recall@20: 0.08357, val_precision@20: 0.02694, val_ndcg@20: 0.04931\n",
      "[Iteration 560/1000] train_loss: -16.44807, val_loss: -11.35903, val_recall@20: 0.08216, val_precision@20: 0.02667, val_ndcg@20: 0.05022\n",
      "[Iteration 580/1000] train_loss: -15.92624, val_loss: -11.81999, val_recall@20: 0.0821, val_precision@20: 0.02676, val_ndcg@20: 0.05041\n",
      "[Iteration 600/1000] train_loss: -15.8504, val_loss: -12.13201, val_recall@20: 0.08268, val_precision@20: 0.02722, val_ndcg@20: 0.05048\n",
      "[Iteration 620/1000] train_loss: -16.74152, val_loss: -12.45815, val_recall@20: 0.08279, val_precision@20: 0.02749, val_ndcg@20: 0.05103\n",
      "[Iteration 640/1000] train_loss: -18.03286, val_loss: -12.65725, val_recall@20: 0.08346, val_precision@20: 0.02749, val_ndcg@20: 0.05124\n",
      "[Iteration 660/1000] train_loss: -17.41186, val_loss: -12.97929, val_recall@20: 0.08559, val_precision@20: 0.02785, val_ndcg@20: 0.05222\n",
      "[Iteration 680/1000] train_loss: -17.44151, val_loss: -13.1059, val_recall@20: 0.08752, val_precision@20: 0.02848, val_ndcg@20: 0.05298\n",
      "[Iteration 700/1000] train_loss: -18.05004, val_loss: -13.45594, val_recall@20: 0.08789, val_precision@20: 0.02857, val_ndcg@20: 0.05336\n",
      "[Iteration 720/1000] train_loss: -18.50174, val_loss: -13.6728, val_recall@20: 0.08827, val_precision@20: 0.02839, val_ndcg@20: 0.05343\n",
      "[Iteration 740/1000] train_loss: -19.24072, val_loss: -13.89818, val_recall@20: 0.08807, val_precision@20: 0.02821, val_ndcg@20: 0.05363\n",
      "[Iteration 760/1000] train_loss: -18.96351, val_loss: -14.21971, val_recall@20: 0.08998, val_precision@20: 0.02839, val_ndcg@20: 0.05405\n",
      "[Iteration 780/1000] train_loss: -19.7043, val_loss: -14.35302, val_recall@20: 0.08971, val_precision@20: 0.0283, val_ndcg@20: 0.05391\n",
      "[Iteration 800/1000] train_loss: -18.64535, val_loss: -14.62608, val_recall@20: 0.09003, val_precision@20: 0.0283, val_ndcg@20: 0.05358\n",
      "[Iteration 820/1000] train_loss: -20.34538, val_loss: -14.60476, val_recall@20: 0.09016, val_precision@20: 0.0283, val_ndcg@20: 0.05382\n",
      "[Iteration 840/1000] train_loss: -20.19427, val_loss: -14.72852, val_recall@20: 0.09197, val_precision@20: 0.02839, val_ndcg@20: 0.05408\n",
      "[Iteration 860/1000] train_loss: -19.94489, val_loss: -14.98267, val_recall@20: 0.09221, val_precision@20: 0.02857, val_ndcg@20: 0.05418\n",
      "[Iteration 880/1000] train_loss: -21.1554, val_loss: -15.2441, val_recall@20: 0.092, val_precision@20: 0.02848, val_ndcg@20: 0.05399\n",
      "[Iteration 900/1000] train_loss: -20.28589, val_loss: -15.10574, val_recall@20: 0.09283, val_precision@20: 0.02893, val_ndcg@20: 0.0548\n",
      "[Iteration 920/1000] train_loss: -21.46099, val_loss: -15.3337, val_recall@20: 0.09296, val_precision@20: 0.02884, val_ndcg@20: 0.05456\n",
      "[Iteration 940/1000] train_loss: -22.22775, val_loss: -15.46764, val_recall@20: 0.09292, val_precision@20: 0.02884, val_ndcg@20: 0.05447\n",
      "[Iteration 960/1000] train_loss: -22.02981, val_loss: -15.73217, val_recall@20: 0.09307, val_precision@20: 0.02902, val_ndcg@20: 0.05471\n",
      "[Iteration 980/1000] train_loss: -21.72982, val_loss: -15.75688, val_recall@20: 0.09344, val_precision@20: 0.02902, val_ndcg@20: 0.05489\n"
     ]
    }
   ],
   "source": [
    "# training loop\n",
    "train_losses = []\n",
    "val_losses = []\n",
    "val_recall_at_ks = []\n",
    "\n",
    "for iter in tqdm(range(ITERATIONS)):\n",
    "    # forward propagation  \n",
    "    users_emb_final, users_emb_0,  pos_items_emb_final, pos_items_emb_0, neg_items_emb_final, neg_items_emb_0 \\\n",
    "                = get_embs_for_bpr(model, train_edge_index)\n",
    "    \n",
    "    # loss computation\n",
    "    train_loss = bpr_loss(users_emb_final, \n",
    "                          users_emb_0, \n",
    "                          pos_items_emb_final,\n",
    "                          pos_items_emb_0, \n",
    "                          neg_items_emb_final, \n",
    "                          neg_items_emb_0, \n",
    "                          LAMBDA)\n",
    "\n",
    "    optimizer.zero_grad()\n",
    "    train_loss.backward()\n",
    "    optimizer.step()\n",
    "\n",
    "    # validation set\n",
    "    if iter % ITERS_PER_EVAL == 0:\n",
    "        model.eval()\n",
    "        \n",
    "        with torch.no_grad():\n",
    "            val_loss, recall, precision, ndcg = evaluation(model, \n",
    "                                                           val_edge_index, \n",
    "                                                           [train_edge_index], \n",
    "                                                           K, \n",
    "                                                           LAMBDA\n",
    "                                                          )\n",
    "\n",
    "            print(f\"[Iteration {iter}/{ITERATIONS}] train_loss: {round(train_loss.item(), 5)}, val_loss: {round(val_loss, 5)}, val_recall@{K}: {round(recall, 5)}, val_precision@{K}: {round(precision, 5)}, val_ndcg@{K}: {round(ndcg, 5)}\")\n",
    "\n",
    "            train_losses.append(train_loss.item())\n",
    "            val_losses.append(val_loss)\n",
    "            val_recall_at_ks.append(round(recall, 5))\n",
    "        model.train()\n",
    "\n",
    "    if iter % ITERS_PER_LR_DECAY == 0 and iter != 0:\n",
    "        scheduler.step()"
   ]
  },
  {
   "cell_type": "markdown",
   "id": "b1f00abb",
   "metadata": {},
   "source": [
    "## Evaluation of Results"
   ]
  },
  {
   "cell_type": "code",
   "execution_count": 32,
   "id": "1cc616cd",
   "metadata": {},
   "outputs": [
    {
     "data": {
      "image/png": "[encoded data removed]",
      "text/plain": [
       "<Figure size 432x288 with 1 Axes>"
      ]
     },
     "metadata": {
      "needs_background": "light"
     },
     "output_type": "display_data"
    }
   ],
   "source": [
    "iters = [iter * ITERS_PER_EVAL for iter in range(len(train_losses))]\n",
    "plt.plot(iters, train_losses, label='train')\n",
    "plt.plot(iters, val_losses, label='validation')\n",
    "plt.xlabel('iteration')\n",
    "plt.ylabel('loss')\n",
    "plt.title('training and validation loss curves')\n",
    "plt.legend()\n",
    "plt.show()"
   ]
  },
  {
   "cell_type": "code",
   "execution_count": 33,
   "id": "27ba5ee3",
   "metadata": {},
   "outputs": [
    {
     "data": {
      "image/png": "[encoded data removed]",
      "text/plain": [
       "<Figure size 432x288 with 1 Axes>"
      ]
     },
     "metadata": {
      "needs_background": "light"
     },
     "output_type": "display_data"
    }
   ],
   "source": [
    "f2 = plt.figure()\n",
    "plt.plot(iters, val_recall_at_ks, label='recall_at_k')\n",
    "plt.xlabel('iteration')\n",
    "plt.ylabel('recall_at_k')\n",
    "plt.title('recall_at_k curves')\n",
    "plt.show()"
   ]
  },
  {
   "cell_type": "code",
   "execution_count": 34,
   "id": "fd94fe0c",
   "metadata": {},
   "outputs": [
    {
     "name": "stdout",
     "output_type": "stream",
     "text": [
      "[test_loss: -16.03881, test_recall@20: 0.08941, test_precision@20: 0.02826, test_ndcg@20: 0.05398\n"
     ]
    }
   ],
   "source": [
    "# evaluate on test set\n",
    "model.eval()\n",
    "test_edge_index = test_edge_index.to(device)\n",
    "\n",
    "test_loss, test_recall, test_precision, test_ndcg = evaluation(model, \n",
    "                                                               test_edge_index, \n",
    "                                                               [train_edge_index, val_edge_index], \n",
    "                                                               K, \n",
    "                                                               LAMBDA\n",
    "                                                              )\n",
    "\n",
    "print(f\"[test_loss: {round(test_loss, 5)}, test_recall@{K}: {round(test_recall, 5)}, test_precision@{K}: {round(test_precision, 5)}, test_ndcg@{K}: {round(test_ndcg, 5)}\")"
   ]
  },
  {
   "cell_type": "markdown",
   "id": "5874f23e",
   "metadata": {},
   "source": [
    "## Simple LightGCN"
   ]
  },
  {
   "cell_type": "code",
   "execution_count": 59,
   "id": "c4b1bda1",
   "metadata": {},
   "outputs": [],
   "source": [
    "# defines LightGCN model \n",
    "class Simple_LightGCN(MessagePassing):\n",
    "\n",
    "    def __init__(self, num_users, num_items, embedding_dim=64, K=3, add_self_loops=False):\n",
    "        \"\"\"Initializes LightGCN Model\n",
    "\n",
    "        Args:\n",
    "            num_users (int): Number of users\n",
    "            num_items (int): Number of items\n",
    "            embedding_dim (int, optional): Dimensionality of embeddings. Defaults to 8.\n",
    "            K (int, optional): Number of message passing layers. Defaults to 3.\n",
    "            add_self_loops (bool, optional): Whether to add self loops for message passing. Defaults to False.\n",
    "        \"\"\"\n",
    "        super().__init__()\n",
    "        self.num_users = num_users\n",
    "        self.num_items = num_items\n",
    "        self.embedding_dim = embedding_dim\n",
    "        self.K = K\n",
    "        self.add_self_loops = add_self_loops\n",
    "\n",
    "        # Define user and item embeddings      \n",
    "        self.items_emb = nn.Embedding(num_embeddings=self.num_items, embedding_dim=self.embedding_dim) # e_i^0\n",
    "        self.users_emb = torch.zeros((self.num_users, self.embedding_dim))\n",
    "\n",
    "        # Initialize user and item embeddings with normal distribution\n",
    "        nn.init.normal_(self.items_emb.weight, std=0.1)\n",
    "        \n",
    "    # ---------------------------------------------------#\n",
    "        \n",
    "    def forward(self, edge_index: Tensor):\n",
    "        \"\"\"Forward propagation of LightGCN Model.\n",
    "        \n",
    "            Args: edge_index (SparseTensor): adjacency matrix\n",
    "            Returns: tuple (Tensor): e_u_k, e_u_0, e_i_k, e_i_0\n",
    "        \"\"\"\n",
    "        \n",
    "        # compute \\tilde{A}: symmetrically normalized adjacency matrix\n",
    "        # where \\tilde_A = D^(-1/2) * A * D^(-1/2)\n",
    "        \n",
    "        edge_index_norm = gcn_norm(edge_index=edge_index, \n",
    "                                   add_self_loops=self.add_self_loops)\n",
    "        r_edge_index_norm = gcn_norm(edge_index=convert_adj_mat_edge_index_to_r_mat_edge_index(edge_index), \n",
    "                                   add_self_loops=self.add_self_loops)\n",
    "        self.R = torch.zeros((self.num_users, self.num_items))\n",
    "        for i in range(len(r_edge_index_norm[1])):\n",
    "            row_idx = r_edge_index_norm[0][0][i]\n",
    "            col_idx = r_edge_index_norm[0][1][i]\n",
    "            self.R[row_idx][col_idx] = r_edge_index_norm[1][i]\n",
    "\n",
    "        self.users_emb = self.R @ self.items_emb.weight.detach()\n",
    "\n",
    "        # Concatenate user-item embeddings (obtain initial embedding matrix E^0)\n",
    "        emb_0 = torch.cat([self.users_emb, self.items_emb.weight])\n",
    "        embs = [emb_0] # init list of embeddings (capture group for all embedding outputs)\n",
    "        emb_k = emb_0\n",
    "\n",
    "        # Performing Message Propagation over K-Layers\n",
    "        for i in range(self.K): # self.propagate inherited from PyG `MessagePassing` module\n",
    "            emb_k = self.propagate(edge_index=edge_index_norm[0], x=emb_k, norm=edge_index_norm[1])\n",
    "            embs.append(emb_k)\n",
    "        \n",
    "        # Compute final embeddings by taking the average of all the intermediate embeddings.\n",
    "        embs = torch.stack(embs, dim=1)\n",
    "        emb_final = torch.mean(embs, dim=1) # E^K\n",
    "        users_emb_final, items_emb_final = torch.split(emb_final, [self.num_users, self.num_items]) # split into e_u^K and e_i^K\n",
    "\n",
    "        # Return Output: e_u^K, e_u^0, e_i^K, e_i^0\n",
    "        return users_emb_final, self.users_emb, items_emb_final, self.items_emb.weight\n",
    "    \n",
    "    # ---------------------------------------------------#\n",
    "    \n",
    "    def message(self, x_j, norm): # Normalize neighboring node features \n",
    "        return norm.view(-1, 1) * x_j    "
   ]
  },
  {
   "cell_type": "code",
   "execution_count": 100,
   "id": "064f4a47",
   "metadata": {},
   "outputs": [],
   "source": [
    "# Same paramters as LightGCN\n",
    "ITERATIONS = 1000\n",
    "EPOCHS = 10\n",
    "BATCH_SIZE = 1024\n",
    "LR = 1e-4\n",
    "ITERS_PER_EVAL = 20\n",
    "ITERS_PER_LR_DECAY = 200\n",
    "K = 20\n",
    "LAMBDA = 1e-6"
   ]
  },
  {
   "cell_type": "code",
   "execution_count": 101,
   "id": "ceeaced1",
   "metadata": {},
   "outputs": [],
   "source": [
    "# INITIALIZE MODEL\n",
    "layers = 2\n",
    "simple_model = Simple_LightGCN(num_users=num_users, num_items=num_items, K=layers)"
   ]
  },
  {
   "cell_type": "code",
   "execution_count": 102,
   "id": "78faad6d",
   "metadata": {},
   "outputs": [],
   "source": [
    "simple_model = simple_model.to(device)\n",
    "simple_model.train()\n",
    "\n",
    "simple_optimizer = optim.Adam(simple_model.parameters(), lr=LR)\n",
    "simple_scheduler = optim.lr_scheduler.ExponentialLR(simple_optimizer, gamma=0.95)\n",
    "\n",
    "# edge_index = edge_index.to(device)\n",
    "# train_edge_index = train_edge_index.to(device)\n",
    "# val_edge_index = val_edge_index.to(device)"
   ]
  },
  {
   "cell_type": "code",
   "execution_count": 103,
   "id": "9f0be74a",
   "metadata": {
    "scrolled": true
   },
   "outputs": [
    {
     "name": "stdout",
     "output_type": "stream",
     "text": [
      "Start Training Simple LightGCN ------------------------------------\n"
     ]
    },
    {
     "data": {
      "application/vnd.jupyter.widget-view+json": {
       "model_id": "c1e2858649b84b46a58910c13bcdf695",
       "version_major": 2,
       "version_minor": 0
      },
      "text/plain": [
       "  0%|          | 0/1000 [00:00<?, ?it/s]"
      ]
     },
     "metadata": {},
     "output_type": "display_data"
    },
    {
     "name": "stdout",
     "output_type": "stream",
     "text": [
      "[Iteration 0/1000] train_loss: -0.71311, val_loss: -0.7365, val_recall@20: 0.24964, val_precision@20: 0.0557, val_ndcg@20: 0.26758\n",
      "[Iteration 20/1000] train_loss: -0.71312, val_loss: -0.73722, val_recall@20: 0.24989, val_precision@20: 0.05588, val_ndcg@20: 0.26745\n",
      "[Iteration 40/1000] train_loss: -0.72164, val_loss: -0.73694, val_recall@20: 0.25059, val_precision@20: 0.05642, val_ndcg@20: 0.2679\n",
      "[Iteration 60/1000] train_loss: -0.73257, val_loss: -0.73844, val_recall@20: 0.2505, val_precision@20: 0.05651, val_ndcg@20: 0.26809\n",
      "[Iteration 80/1000] train_loss: -0.7363, val_loss: -0.73933, val_recall@20: 0.25124, val_precision@20: 0.05696, val_ndcg@20: 0.26854\n",
      "[Iteration 100/1000] train_loss: -0.75057, val_loss: -0.74133, val_recall@20: 0.2508, val_precision@20: 0.05678, val_ndcg@20: 0.26847\n",
      "[Iteration 120/1000] train_loss: -0.76312, val_loss: -0.7423, val_recall@20: 0.25291, val_precision@20: 0.05769, val_ndcg@20: 0.26945\n",
      "[Iteration 140/1000] train_loss: -0.79512, val_loss: -0.74413, val_recall@20: 0.25402, val_precision@20: 0.05796, val_ndcg@20: 0.26998\n",
      "[Iteration 160/1000] train_loss: -0.79935, val_loss: -0.74628, val_recall@20: 0.25511, val_precision@20: 0.05823, val_ndcg@20: 0.27038\n",
      "[Iteration 180/1000] train_loss: -0.82138, val_loss: -0.75016, val_recall@20: 0.25837, val_precision@20: 0.05895, val_ndcg@20: 0.2716\n",
      "[Iteration 200/1000] train_loss: -0.8627, val_loss: -0.75397, val_recall@20: 0.25921, val_precision@20: 0.05922, val_ndcg@20: 0.27191\n",
      "[Iteration 220/1000] train_loss: -0.88911, val_loss: -0.75747, val_recall@20: 0.26022, val_precision@20: 0.05931, val_ndcg@20: 0.27259\n",
      "[Iteration 240/1000] train_loss: -0.94438, val_loss: -0.76276, val_recall@20: 0.26101, val_precision@20: 0.05913, val_ndcg@20: 0.27242\n",
      "[Iteration 260/1000] train_loss: -0.99428, val_loss: -0.7693, val_recall@20: 0.26146, val_precision@20: 0.05895, val_ndcg@20: 0.27215\n",
      "[Iteration 280/1000] train_loss: -1.09923, val_loss: -0.77637, val_recall@20: 0.26393, val_precision@20: 0.05958, val_ndcg@20: 0.27312\n",
      "[Iteration 300/1000] train_loss: -1.14538, val_loss: -0.78394, val_recall@20: 0.26652, val_precision@20: 0.06049, val_ndcg@20: 0.27413\n",
      "[Iteration 320/1000] train_loss: -1.28575, val_loss: -0.79211, val_recall@20: 0.26505, val_precision@20: 0.06004, val_ndcg@20: 0.2725\n",
      "[Iteration 340/1000] train_loss: -1.39236, val_loss: -0.80338, val_recall@20: 0.26428, val_precision@20: 0.05922, val_ndcg@20: 0.26984\n",
      "[Iteration 360/1000] train_loss: -1.44357, val_loss: -0.81509, val_recall@20: 0.2622, val_precision@20: 0.05814, val_ndcg@20: 0.26747\n",
      "[Iteration 380/1000] train_loss: -1.54489, val_loss: -0.82954, val_recall@20: 0.26006, val_precision@20: 0.05723, val_ndcg@20: 0.26474\n",
      "[Iteration 400/1000] train_loss: -1.70818, val_loss: -0.84487, val_recall@20: 0.25605, val_precision@20: 0.05588, val_ndcg@20: 0.26056\n",
      "[Iteration 420/1000] train_loss: -1.95283, val_loss: -0.85914, val_recall@20: 0.25518, val_precision@20: 0.05497, val_ndcg@20: 0.25804\n",
      "[Iteration 440/1000] train_loss: -2.04703, val_loss: -0.87663, val_recall@20: 0.25362, val_precision@20: 0.0538, val_ndcg@20: 0.25513\n",
      "[Iteration 460/1000] train_loss: -2.26364, val_loss: -0.89496, val_recall@20: 0.25098, val_precision@20: 0.05253, val_ndcg@20: 0.25152\n",
      "[Iteration 480/1000] train_loss: -2.37348, val_loss: -0.92047, val_recall@20: 0.24768, val_precision@20: 0.05118, val_ndcg@20: 0.2469\n",
      "[Iteration 500/1000] train_loss: -2.6758, val_loss: -0.93877, val_recall@20: 0.2458, val_precision@20: 0.05054, val_ndcg@20: 0.24222\n",
      "[Iteration 520/1000] train_loss: -2.98743, val_loss: -0.96153, val_recall@20: 0.24363, val_precision@20: 0.04973, val_ndcg@20: 0.23807\n",
      "[Iteration 540/1000] train_loss: -2.96657, val_loss: -0.98643, val_recall@20: 0.24081, val_precision@20: 0.04882, val_ndcg@20: 0.2334\n",
      "[Iteration 560/1000] train_loss: -3.25156, val_loss: -1.00699, val_recall@20: 0.2378, val_precision@20: 0.04792, val_ndcg@20: 0.22941\n",
      "[Iteration 580/1000] train_loss: -3.44702, val_loss: -1.04596, val_recall@20: 0.23335, val_precision@20: 0.04647, val_ndcg@20: 0.22516\n",
      "[Iteration 600/1000] train_loss: -3.7341, val_loss: -1.07195, val_recall@20: 0.22948, val_precision@20: 0.04485, val_ndcg@20: 0.22088\n",
      "[Iteration 620/1000] train_loss: -4.06135, val_loss: -1.10787, val_recall@20: 0.22729, val_precision@20: 0.04412, val_ndcg@20: 0.21688\n",
      "[Iteration 640/1000] train_loss: -4.12713, val_loss: -1.13051, val_recall@20: 0.22426, val_precision@20: 0.04349, val_ndcg@20: 0.21304\n",
      "[Iteration 660/1000] train_loss: -4.55255, val_loss: -1.15791, val_recall@20: 0.2222, val_precision@20: 0.04295, val_ndcg@20: 0.21013\n",
      "[Iteration 680/1000] train_loss: -4.60756, val_loss: -1.19423, val_recall@20: 0.21881, val_precision@20: 0.04195, val_ndcg@20: 0.2055\n",
      "[Iteration 700/1000] train_loss: -5.10291, val_loss: -1.23585, val_recall@20: 0.21626, val_precision@20: 0.04123, val_ndcg@20: 0.20161\n",
      "[Iteration 720/1000] train_loss: -5.39285, val_loss: -1.25366, val_recall@20: 0.2121, val_precision@20: 0.04014, val_ndcg@20: 0.1956\n",
      "[Iteration 740/1000] train_loss: -6.25312, val_loss: -1.30209, val_recall@20: 0.20722, val_precision@20: 0.03915, val_ndcg@20: 0.1915\n",
      "[Iteration 760/1000] train_loss: -5.89843, val_loss: -1.34251, val_recall@20: 0.20667, val_precision@20: 0.03897, val_ndcg@20: 0.18924\n",
      "[Iteration 780/1000] train_loss: -6.09029, val_loss: -1.38903, val_recall@20: 0.20433, val_precision@20: 0.03861, val_ndcg@20: 0.18645\n",
      "[Iteration 800/1000] train_loss: -7.36869, val_loss: -1.42562, val_recall@20: 0.20186, val_precision@20: 0.03788, val_ndcg@20: 0.18396\n",
      "[Iteration 820/1000] train_loss: -7.2194, val_loss: -1.46599, val_recall@20: 0.19597, val_precision@20: 0.03698, val_ndcg@20: 0.1796\n",
      "[Iteration 840/1000] train_loss: -8.20978, val_loss: -1.50555, val_recall@20: 0.19244, val_precision@20: 0.03626, val_ndcg@20: 0.17646\n",
      "[Iteration 860/1000] train_loss: -8.3697, val_loss: -1.53857, val_recall@20: 0.18901, val_precision@20: 0.03535, val_ndcg@20: 0.17314\n",
      "[Iteration 880/1000] train_loss: -8.21763, val_loss: -1.595, val_recall@20: 0.18507, val_precision@20: 0.03463, val_ndcg@20: 0.16938\n",
      "[Iteration 900/1000] train_loss: -8.07742, val_loss: -1.63907, val_recall@20: 0.18222, val_precision@20: 0.03418, val_ndcg@20: 0.16659\n",
      "[Iteration 920/1000] train_loss: -9.89723, val_loss: -1.6845, val_recall@20: 0.18128, val_precision@20: 0.03391, val_ndcg@20: 0.16426\n",
      "[Iteration 940/1000] train_loss: -9.54541, val_loss: -1.72149, val_recall@20: 0.1777, val_precision@20: 0.03327, val_ndcg@20: 0.16179\n",
      "[Iteration 960/1000] train_loss: -9.86276, val_loss: -1.78428, val_recall@20: 0.17242, val_precision@20: 0.03255, val_ndcg@20: 0.15908\n",
      "[Iteration 980/1000] train_loss: -10.42878, val_loss: -1.81797, val_recall@20: 0.171, val_precision@20: 0.03246, val_ndcg@20: 0.15635\n"
     ]
    }
   ],
   "source": [
    "# training loop\n",
    "simple_train_losses = []\n",
    "simple_val_losses = []\n",
    "simple_val_recall_at_ks = []\n",
    "best_simple_val_recall = 0.0\n",
    "print(\"Start Training Simple LightGCN ------------------------------------\")\n",
    "for iter in tqdm(range(ITERATIONS)):\n",
    "    # forward propagation  \n",
    "    s_users_emb_final, s_users_emb_0,  s_pos_items_emb_final, s_pos_items_emb_0, s_neg_items_emb_final, s_neg_items_emb_0 \\\n",
    "                = get_embs_for_bpr(simple_model, train_edge_index)\n",
    "    \n",
    "    # loss computation\n",
    "    simple_train_loss = bpr_loss(s_users_emb_final, \n",
    "                          s_users_emb_0, \n",
    "                          s_pos_items_emb_final,\n",
    "                          s_pos_items_emb_0, \n",
    "                          s_neg_items_emb_final, \n",
    "                          s_neg_items_emb_0, \n",
    "                          LAMBDA, if_bpr_user=False)\n",
    "\n",
    "    simple_optimizer.zero_grad()\n",
    "    simple_train_loss.backward()\n",
    "    simple_optimizer.step()\n",
    "\n",
    "    # validation set\n",
    "    if iter % ITERS_PER_EVAL == 0:\n",
    "        simple_model.eval()\n",
    "        \n",
    "        with torch.no_grad():\n",
    "            simple_val_loss, simple_recall, simple_precision, simple_ndcg = evaluation(simple_model, \n",
    "                                                                                        val_edge_index, \n",
    "                                                                                        [train_edge_index], \n",
    "                                                                                        K, \n",
    "                                                                                        LAMBDA)\n",
    "\n",
    "            print(f\"[Iteration {iter}/{ITERATIONS}] train_loss: {round(simple_train_loss.item(), 5)}, val_loss: {round(simple_val_loss, 5)}, val_recall@{K}: {round(simple_recall, 5)}, val_precision@{K}: {round(simple_precision, 5)}, val_ndcg@{K}: {round(simple_ndcg, 5)}\")\n",
    "\n",
    "            simple_train_losses.append(simple_train_loss.item())\n",
    "            simple_val_losses.append(simple_val_loss)\n",
    "            simple_val_recall_at_ks.append(round(simple_recall, 5))\n",
    "            \n",
    "            if simple_recall > best_simple_val_recall:\n",
    "                best_simple_model = copy.deepcopy(simple_model)\n",
    "\n",
    "    if iter % ITERS_PER_LR_DECAY == 0 and iter != 0:\n",
    "        simple_scheduler.step()"
   ]
  },
  {
   "cell_type": "code",
   "execution_count": 106,
   "id": "79883a0a",
   "metadata": {},
   "outputs": [
    {
     "name": "stdout",
     "output_type": "stream",
     "text": [
      "[test_loss: -1.79147, test_recall@20: 0.18187, test_precision@20: 0.03333, test_ndcg@20: 0.15805\n"
     ]
    }
   ],
   "source": [
    "# evaluate on test set\n",
    "best_simple_model.eval()\n",
    "test_edge_index = test_edge_index.to(device)\n",
    "\n",
    "test_loss, test_recall, test_precision, test_ndcg = evaluation(best_simple_model, \n",
    "                                                               test_edge_index, \n",
    "                                                               [train_edge_index, val_edge_index], \n",
    "                                                               K, \n",
    "                                                               LAMBDA\n",
    "                                                              )\n",
    "\n",
    "print(f\"[test_loss: {round(test_loss, 5)}, test_recall@{K}: {round(test_recall, 5)}, test_precision@{K}: {round(test_precision, 5)}, test_ndcg@{K}: {round(test_ndcg, 5)}\")"
   ]
  },
  {
   "cell_type": "code",
   "execution_count": null,
   "id": "1110a57b",
   "metadata": {},
   "outputs": [],
   "source": []
  }
 ],
 "metadata": {
  "kernelspec": {
   "display_name": "Python 3 (ipykernel)",
   "language": "python",
   "name": "python3"
  },
  "language_info": {
   "codemirror_mode": {
    "name": "ipython",
    "version": 3
   },
   "file_extension": ".py",
   "mimetype": "text/x-python",
   "name": "python",
   "nbconvert_exporter": "python",
   "pygments_lexer": "ipython3",
   "version": "3.9.8"
  },
  "widgets": {
   "application/vnd.jupyter.widget-state+json": {
    "state": {
     "051b250b59024f389f746845e54146e5": {
      "model_module": "@jupyter-widgets/controls",
      "model_module_version": "2.0.0",
      "model_name": "FloatProgressModel",
      "state": {
       "description": " 35%",
       "layout": "IPY_MODEL_c88e862b82f04ffd82b280c4b661db47",
       "max": 10000,
       "style": "IPY_MODEL_c99c37c6aa8c44fc8376f98287c220a8",
       "value": 3516
      }
     },
     "20633415b8d546d3958c5dca4fab042f": {
      "model_module": "@jupyter-widgets/base",
      "model_module_version": "2.0.0",
      "model_name": "LayoutModel",
      "state": {}
     },
     "25b19051fba143aaa8e8be87e0838c92": {
      "model_module": "@jupyter-widgets/base",
      "model_module_version": "2.0.0",
      "model_name": "LayoutModel",
      "state": {}
     },
     "36983c52bcfd4a64abb0ccb687ee6dd4": {
      "model_module": "@jupyter-widgets/controls",
      "model_module_version": "2.0.0",
      "model_name": "HTMLModel",
      "state": {
       "layout": "IPY_MODEL_dfd0e1fcafb94cf28affb526b641ccc7",
       "style": "IPY_MODEL_708539ad8fa847f2bc108a5028b3c7c5",
       "value": " 10000/10000 [11:50&lt;00:00, 14.08it/s]"
      }
     },
     "5482cba16723468c977426a9ccac8316": {
      "model_module": "@jupyter-widgets/controls",
      "model_module_version": "2.0.0",
      "model_name": "ProgressStyleModel",
      "state": {
       "description_width": "initial"
      }
     },
     "5dc4f138538240f6a2cc464879834a0c": {
      "model_module": "@jupyter-widgets/controls",
      "model_module_version": "2.0.0",
      "model_name": "HTMLModel",
      "state": {
       "layout": "IPY_MODEL_5fa5996b0fff4950afbfe98d80aea4dd",
       "style": "IPY_MODEL_770082ed8a5148fb8630bdd36758bdbe",
       "value": " 10000/10000 [17:26&lt;00:00,  9.56it/s]"
      }
     },
     "5fa5996b0fff4950afbfe98d80aea4dd": {
      "model_module": "@jupyter-widgets/base",
      "model_module_version": "2.0.0",
      "model_name": "LayoutModel",
      "state": {}
     },
     "6185017f6c59491b998bb78c7cd84549": {
      "model_module": "@jupyter-widgets/controls",
      "model_module_version": "2.0.0",
      "model_name": "HBoxModel",
      "state": {
       "children": [
        "IPY_MODEL_ca97f7f2f35947f3941c1b8667d892ac",
        "IPY_MODEL_36983c52bcfd4a64abb0ccb687ee6dd4"
       ],
       "layout": "IPY_MODEL_25b19051fba143aaa8e8be87e0838c92"
      }
     },
     "708539ad8fa847f2bc108a5028b3c7c5": {
      "model_module": "@jupyter-widgets/controls",
      "model_module_version": "2.0.0",
      "model_name": "HTMLStyleModel",
      "state": {
       "description_width": "",
       "font_size": null,
       "text_color": null
      }
     },
     "770082ed8a5148fb8630bdd36758bdbe": {
      "model_module": "@jupyter-widgets/controls",
      "model_module_version": "2.0.0",
      "model_name": "HTMLStyleModel",
      "state": {
       "description_width": "",
       "font_size": null,
       "text_color": null
      }
     },
     "b28a372811284ab88291f657cc02b48f": {
      "model_module": "@jupyter-widgets/base",
      "model_module_version": "2.0.0",
      "model_name": "LayoutModel",
      "state": {}
     },
     "c88e862b82f04ffd82b280c4b661db47": {
      "model_module": "@jupyter-widgets/base",
      "model_module_version": "2.0.0",
      "model_name": "LayoutModel",
      "state": {}
     },
     "c99c37c6aa8c44fc8376f98287c220a8": {
      "model_module": "@jupyter-widgets/controls",
      "model_module_version": "2.0.0",
      "model_name": "ProgressStyleModel",
      "state": {
       "description_width": "initial"
      }
     },
     "ca97f7f2f35947f3941c1b8667d892ac": {
      "model_module": "@jupyter-widgets/controls",
      "model_module_version": "2.0.0",
      "model_name": "FloatProgressModel",
      "state": {
       "bar_style": "success",
       "description": "100%",
       "layout": "IPY_MODEL_b28a372811284ab88291f657cc02b48f",
       "max": 10000,
       "style": "IPY_MODEL_5482cba16723468c977426a9ccac8316",
       "value": 10000
      }
     },
     "cf8fddb131e445ccbd9c4539b6644c39": {
      "model_module": "@jupyter-widgets/controls",
      "model_module_version": "2.0.0",
      "model_name": "HBoxModel",
      "state": {
       "children": [
        "IPY_MODEL_051b250b59024f389f746845e54146e5",
        "IPY_MODEL_5dc4f138538240f6a2cc464879834a0c"
       ],
       "layout": "IPY_MODEL_20633415b8d546d3958c5dca4fab042f"
      }
     },
     "dfd0e1fcafb94cf28affb526b641ccc7": {
      "model_module": "@jupyter-widgets/base",
      "model_module_version": "2.0.0",
      "model_name": "LayoutModel",
      "state": {}
     }
    },
    "version_major": 2,
    "version_minor": 0
   }
  }
 },
 "nbformat": 4,
 "nbformat_minor": 5
}
